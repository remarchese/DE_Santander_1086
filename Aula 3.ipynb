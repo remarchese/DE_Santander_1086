{
 "cells": [
  {
   "cell_type": "markdown",
   "id": "32324909",
   "metadata": {},
   "source": [
    "<div style=\"background-color: lightblue; padding: 10px;\">\n",
    "    <h2> Tópicos da aula - AULA 3\n",
    "</div>\n",
    "    \n",
    "- Estruturas de repetição\n",
    "- Loop while"
   ]
  },
  {
   "cell_type": "markdown",
   "id": "bb667ebd",
   "metadata": {},
   "source": [
    "O usuário deve digitar 2 números e o programa diz qual o maior."
   ]
  },
  {
   "cell_type": "code",
   "execution_count": 3,
   "id": "97a3383c",
   "metadata": {},
   "outputs": [
    {
     "name": "stdout",
     "output_type": "stream",
     "text": [
      "Digite um número: 3\n",
      "Digite outro número: 3\n",
      "Os números são iguais e tem o valor de 3\n"
     ]
    }
   ],
   "source": [
    "num1 = int(input(\"Digite um número: \"))\n",
    "num2 = int(input(\"Digite outro número: \"))\n",
    "\n",
    "if num1 > num2:\n",
    "    print(f'O maior valor entre eles é {num1}')\n",
    "elif num2 > num1:\n",
    "    print(f'O maior valor entre eles é {num2}')\n",
    "else:\n",
    "    print(f\"Os números são iguais e tem o valor de {num1}\")"
   ]
  },
  {
   "cell_type": "code",
   "execution_count": 4,
   "id": "e28a6945",
   "metadata": {},
   "outputs": [
    {
     "name": "stdout",
     "output_type": "stream",
     "text": [
      "Digite um número: 3\n",
      "Digite outro número: 4\n",
      "Digite outro número: 5\n",
      "O maior valor entre eles é 5\n"
     ]
    }
   ],
   "source": [
    "# Acrescentando mais um número para comparar\n",
    "\n",
    "num1 = int(input(\"Digite um número: \"))\n",
    "num2 = int(input(\"Digite outro número: \"))\n",
    "num3 = int(input(\"Digite outro número: \"))\n",
    "\n",
    "if num1 >= num2 and num1 >= num3:\n",
    "    print(f'O maior valor entre eles é {num1}')\n",
    "elif num2 >= num1 and num2 >= num3:\n",
    "    print(f'O maior valor entre eles é {num2}')\n",
    "elif num3 >= num1 and num3 >= num2:\n",
    "    print(f'O maior valor entre eles é {num3}')\n",
    "else:\n",
    "    print(f\"Nunca passo por aqui\") # se eles são iguais\n",
    "\n"
   ]
  },
  {
   "cell_type": "markdown",
   "id": "81ce4722",
   "metadata": {},
   "source": [
    "# Estruturas de Repetição\n",
    "\n",
    "Um **if** não garante que eu consigo validar o valor de um campo pois se o usuário não acertar na 2a vez, ele seguirá inválido"
   ]
  },
  {
   "cell_type": "code",
   "execution_count": 7,
   "id": "b58b9be1",
   "metadata": {},
   "outputs": [
    {
     "name": "stdout",
     "output_type": "stream",
     "text": [
      "digite seu salário: 1000\n",
      "salário inválido, digite outro: 300\n"
     ]
    }
   ],
   "source": [
    "salario = float(input(\"digite seu salário: \"))\n",
    "\n",
    "if salario < 1100:\n",
    "    salario = float(input(\"salário inválido, digite outro: \"))\n",
    "else:\n",
    "    print(\"válido\", salario)"
   ]
  },
  {
   "cell_type": "code",
   "execution_count": 8,
   "id": "44cf70cb",
   "metadata": {},
   "outputs": [
    {
     "name": "stdout",
     "output_type": "stream",
     "text": [
      "digite seu salário: 1000\n",
      "salário inválido, digite outro: 300\n",
      "salário inválido, digite outro: 200\n"
     ]
    }
   ],
   "source": [
    "salario = float(input(\"digite seu salário: \"))\n",
    "\n",
    "if salario < 1100:\n",
    "    salario = float(input(\"salário inválido, digite outro: \"))\n",
    "if salario < 1100:\n",
    "    salario = float(input(\"salário inválido, digite outro: \")) \n",
    "else:\n",
    "    print(\"valido\", salario)"
   ]
  },
  {
   "cell_type": "code",
   "execution_count": 9,
   "id": "3e5bb7c9",
   "metadata": {},
   "outputs": [
    {
     "name": "stdout",
     "output_type": "stream",
     "text": [
      "digite seu salário: 1000\n",
      "salário inválido, digite outro: 500\n",
      "salário inválido, digite outro: 300\n",
      "salário inválido, digite outro: 200\n",
      "salário inválido, digite outro: 2000\n",
      "2000.0\n"
     ]
    }
   ],
   "source": [
    "salario = float(input(\"digite seu salário: \"))\n",
    "\n",
    "while salario < 1100: # Recebe uma expressão lógica\n",
    "    #Enquanto a expressão for verdadeira (True), ele repete as linhas que estão aqui dentro\n",
    "    salario = float(input(\"salário inválido, digite outro: \"))\n",
    "\n",
    "print(salario)"
   ]
  },
  {
   "cell_type": "markdown",
   "id": "35ed8345",
   "metadata": {},
   "source": [
    "__Obs.__: SEMPRE que eu trabalho com estrutura de repetição (**WHILE**) é NECESSÁRIO que a condição seja alterada dentro do while, SENÃO entro em looping infinito"
   ]
  },
  {
   "cell_type": "markdown",
   "id": "94d758e2",
   "metadata": {},
   "source": [
    "<div style=\"background-color: red; padding: 10px;\">\n",
    "    <h2> CUIDADO AO RODAR - é um loop infinito\n",
    "</div>"
   ]
  },
  {
   "cell_type": "code",
   "execution_count": null,
   "id": "a0cc14ab",
   "metadata": {},
   "outputs": [],
   "source": [
    "salario = float(input(\"digite seu salário: \"))\n",
    "\n",
    "while salario < 1100: \n",
    "    print(salario) # quando ele sai? quando a expressão acima fica falsa? NUNCA pois a gente não atualiza o salário\n",
    "\n",
    "# CUIDADO AO RODAR -- É UM LOOP INFINITO"
   ]
  },
  {
   "cell_type": "code",
   "execution_count": 1,
   "id": "a7e24bb0",
   "metadata": {},
   "outputs": [
    {
     "name": "stdout",
     "output_type": "stream",
     "text": [
      "Digite um número: 3\n",
      "Digite um número: 5\n",
      "O maior valor é 5\n",
      "Digite um número: 10\n",
      "O maior valor é 10\n",
      "Digite um número: 6\n",
      "O maior valor é 10\n",
      "Digite um número: 5\n",
      "O maior valor é 10\n",
      "Digite um número: 20\n",
      "O maior valor é 20\n",
      "Digite um número: 16\n",
      "O maior valor é 20\n",
      "Digite um número: 0\n",
      "O maior valor é 20\n",
      "O maior valor digitado foi 20\n"
     ]
    }
   ],
   "source": [
    "# voltando para o exemplo para definir qual o maior valor\n",
    "# Digitando 0 para encerrar\n",
    "\n",
    "numero = int(input('Digite um número: '))\n",
    "maior = numero\n",
    "\n",
    "while numero != 0:\n",
    "    numero = int(input('Digite um número: '))\n",
    "    if numero > maior:\n",
    "        maior = numero\n",
    "    print(f'O maior valor é {maior}')\n",
    "\n",
    "print(f'O maior valor digitado foi {maior}')    \n",
    "\n"
   ]
  },
  {
   "cell_type": "code",
   "execution_count": null,
   "id": "db10fc4f",
   "metadata": {},
   "outputs": [],
   "source": []
  },
  {
   "cell_type": "code",
   "execution_count": null,
   "id": "042d7f76",
   "metadata": {},
   "outputs": [],
   "source": []
  },
  {
   "cell_type": "code",
   "execution_count": null,
   "id": "428d3415",
   "metadata": {},
   "outputs": [],
   "source": []
  },
  {
   "cell_type": "markdown",
   "id": "3a49c127",
   "metadata": {},
   "source": [
    "**Bora praticar!**\n",
    "\n",
    "1) Escreva um programa que solicite um número inteiro e imprima na tela todos os números de 1 até o número digitado, separado por espaços.  \n",
    "_Exemplo_  \n",
    "número digitado: 5  \n",
    "resultado esperado: 1 2 3 4 5\n",
    "\n",
    "2) Faça um programa que mostre o fatorial de um número digitado.  \n",
    "_Exemplo_  \n",
    "número digitado: 5  \n",
    "resultado esperado: 120\n",
    "\n",
    "3) Faça um programa que imprima a tabuada do 9 na tela (entre 1 e 10). Insira a conta, por exemplo, 9 * 1 = 9, sendo cada um dos valores em uma linha diferente.\n",
    "\n",
    "4) Faça um programa em que o usuário digite números quaisquer e encerrará no momento em que o valor 0 seja digitado. Ao final diga qual foi o maior número digitado.\n",
    "\n",
    "5) Faça um script que peça para o usuário digitar a idade, o salário e o sexo de uma pessoa até que as entradas digitadas sejam válidas.  \n",
    "  \n",
    "a. Idade: entre 0 e 150  \n",
    "b. Salário: maior que 0  \n",
    "c. Gênero: M, F ou Outro  \n",
    "  \n",
    "Por último imprima os dados recebidos do usuário.\n",
    "\n",
    "6) Faça uma calculadora. O usuário deve inserir qual a operação matemática ele deseja realizar e logo em seguida os dois números. O programa deve finalizar apenas quando o usuário digitar a opção \"sair\" no momento de escolha da operação matemática."
   ]
  },
  {
   "cell_type": "code",
   "execution_count": 3,
   "id": "1b2f79df",
   "metadata": {},
   "outputs": [
    {
     "name": "stdout",
     "output_type": "stream",
     "text": [
      "Digite um número: 3\n",
      "1 2 3 \n",
      "Digite um número: 3\n",
      "1 2 3 Digite um número inteiro positivo: 3\n",
      "6\n",
      "Digite um numero inteiro3\n",
      "6\n",
      "1 * 9 = 9\n",
      "2 * 9 = 18\n",
      "3 * 9 = 27\n",
      "4 * 9 = 36\n",
      "5 * 9 = 45\n",
      "6 * 9 = 54\n",
      "7 * 9 = 63\n",
      "8 * 9 = 72\n",
      "9 * 9 = 81\n",
      "10 * 9 = 90\n",
      "Digite um número: 3\n",
      "3 * 1 = 3 \n",
      "3 * 2 = 6 \n",
      "3 * 3 = 9 \n",
      "3 * 4 = 12 \n",
      "3 * 5 = 15 \n",
      "3 * 6 = 18 \n",
      "3 * 7 = 21 \n",
      "3 * 8 = 24 \n",
      "3 * 9 = 27 \n",
      "3 * 10 = 30 \n",
      "Digite um numero: 3\n",
      "Digite um novo numero ou 0 para encerrar: 0\n",
      "O maior valor digitado foi 3\n",
      "Digite sua idade: 21\n",
      "Digite seu salário: 1000\n",
      "Digite seu gênero: F\n",
      "Todas as entradas foram válidas\n",
      "Qual a sua idade? 21\n",
      "Qual o seu salário: 900\n",
      "Qual o seu sexo (M, F ou Outro): M\n",
      "Todas entradas estão válidas\n",
      "Idade: 21.0, salário: 900.0 e sexo: M\n",
      "A = Adição\n",
      "S = Subtração\n",
      "M = Multiplicação\n",
      "D = Divisão\n",
      "Digite a operação desejada: A\n",
      "Digite o primeiro número: 1\n",
      "Digite o segundo número: 1\n",
      "1.0 + 1.0 = 2.0\n",
      "A = Adição\n",
      "S = Subtração\n",
      "M = Multiplicação\n",
      "D = Divisão\n",
      "Digite a operação desejada: S\n",
      "Digite o primeiro número: 1\n",
      "Digite o segundo número: 1\n",
      "1.0 - 1.0 = 0.0\n",
      "A = Adição\n",
      "S = Subtração\n",
      "M = Multiplicação\n",
      "D = Divisão\n",
      "Digite a operação desejada: 0\n",
      "operação inválida!\n",
      "A = Adição\n",
      "S = Subtração\n",
      "M = Multiplicação\n",
      "D = Divisão\n",
      "Digite a operação desejada: sair\n",
      "\n",
      "Programa finalizado :)\n"
     ]
    }
   ],
   "source": [
    "## Resolução\n",
    "\n",
    "\n",
    "\n",
    "# 1) Escreva um programa que solicite um número inteiro e imprima na tela todos os números de 1 até o número digitado, separado por espaços.  \n",
    "# _Exemplo_  \n",
    "# número digitado: 5  \n",
    "# resultado esperado: 1 2 3 4 5\n",
    "\n",
    "numero = int(input('Digite um número: '))\n",
    "contador = 1\n",
    "string = ''\n",
    "\n",
    "while contador <= numero:\n",
    "    string = string + str(contador) + ' '\n",
    "    contador = contador + 1 # OU contador += 1\n",
    "\n",
    "print(string)\n",
    "\n",
    "numero = int(input('Digite um número: '))\n",
    "cont = 0\n",
    "\n",
    "while cont < numero:\n",
    "    cont = cont + 1 # OU contador += 1\n",
    "    print(cont, end=' ')\n",
    "\n",
    "\n",
    "# 2) Faça um programa que mostre o fatorial de um número digitado.  \n",
    "# _Exemplo_  \n",
    "# número digitado: 5  \n",
    "# resultado esperado: 120\n",
    "\n",
    "# 5! = 5 * 4 * 3 * 2 * 1\n",
    "\n",
    "numero = int(input('Digite um número inteiro positivo: '))\n",
    "fatorial = 1\n",
    "\n",
    "while numero > 0:\n",
    "    fatorial = fatorial * numero\n",
    "    numero = numero - 1    # numero -= 1\n",
    "    \n",
    "print(fatorial)    \n",
    "\n",
    "# 5! = 5*4*3*2*1\n",
    "\n",
    "num = int(input('Digite um numero inteiro'))\n",
    "fat = 1\n",
    "cont = 1\n",
    "\n",
    "while cont <= num:\n",
    "    fat *= cont  # fat = fat * cont = 1 * 2 * 3 * 4 * 5\n",
    "    cont += 1  # cont = cont + 1\n",
    "\n",
    "print(fat)\n",
    "\n",
    "# 3) Faça um programa que imprima a tabuada do 9 na tela (entre 1 e 10). Insira a conta, por exemplo, 9 * 1 = 9, sendo cada um dos valores em uma linha diferente.\n",
    "\n",
    "i = 1\n",
    "\n",
    "while i <= 10:\n",
    "    mult = i * 9\n",
    "    print(f\"{i} * 9 = {mult}\")\n",
    "    i += 1\n",
    "\n",
    "numero = int(input('Digite um número: '))\n",
    "contador = 1\n",
    "\n",
    "while (contador <= 10):\n",
    "    resultado = numero * contador\n",
    "    print(f'{numero} * {contador} = {resultado} ')\n",
    "    contador = contador + 1\n",
    "\n",
    "# 4) Faça um programa em que o usuário digite números quaisquer e encerrará no momento em que o valor 0 seja digitado. Ao final diga qual foi o maior número digitado.\n",
    "\n",
    "numero = int(input(\"Digite um numero: \"))\n",
    "maior = numero\n",
    "\n",
    "while (numero != 0):\n",
    "    numero = int(input(\"Digite um novo numero ou 0 para encerrar: \"))\n",
    "    if (numero > maior):\n",
    "        maior = numero\n",
    "print(f\"O maior valor digitado foi {maior}\")\n",
    "\n",
    "# 5) Faça um script que peça para o usuário digitar a idade, o salário e o sexo de uma pessoa até que as entradas digitadas sejam válidas.  \n",
    "  \n",
    "# a. Idade: entre 0 e 150  \n",
    "# b. Salário: maior que 0  \n",
    "# c. Gênero: M, F ou Outro  \n",
    "  \n",
    "# Por último imprima os dados recebidos do usuário.\n",
    "\n",
    "idade = int(input('Digite sua idade: '))\n",
    "salario = float(input('Digite seu salário: '))\n",
    "genero = input('Digite seu gênero: ')\n",
    "\n",
    "while not ((idade > 0 and idade < 150) and (salario > 0) and\n",
    "           (genero == 'f' or genero == 'F' or genero == 'M' or genero == 'm')):\n",
    "    if idade > 0 and idade < 150:\n",
    "        print('Idade válida')\n",
    "    else:\n",
    "        print('Idade inválida')\n",
    "        idade = int(input('Digite sua idade: '))\n",
    "\n",
    "    if salario > 0:\n",
    "        print('Salário válido')\n",
    "    else:\n",
    "        print('Salário inválido')\n",
    "        salario = float(input('Digite seu salário: '))\n",
    "\n",
    "    if genero == 'f' or genero == 'F' or genero == 'M' or genero == 'm':\n",
    "        print('Gênero válido')\n",
    "    else:\n",
    "        print('Gênero inválido')\n",
    "        genero = input('Digite seu gênero: ')\n",
    "\n",
    "print(\"Todas as entradas foram válidas\")\n",
    "\n",
    "idade = float(input(\"Qual a sua idade? \"))\n",
    "salario = float(input(\"Qual o seu salário: \"))\n",
    "sexo = input(\"Qual o seu sexo (M, F ou Outro): \")\n",
    "\n",
    "# CONDIÇÕES\n",
    "condicao_idade = (idade >= 0) and (idade <= 150)\n",
    "condicao_salario = (salario > 0)\n",
    "condicao_sexo = (sexo == 'M') or (sexo == 'F') or (sexo == 'Outro')\n",
    "\n",
    "# VALIDAÇÃO\n",
    "while not condicao_idade:\n",
    "    print(\"Idade inválida!\")\n",
    "    idade = float(input(\"Qual a sua idade? \"))\n",
    "    condicao_idade = (idade >= 0) and (idade <= 150)\n",
    "while not condicao_salario:\n",
    "    print(\"Salário inválido!\")\n",
    "    salario = float(input(\"Qual o seu salário: \"))\n",
    "    condicao_salario = (salario > 0)\n",
    "while not condicao_sexo:\n",
    "    print(\"Sexo inválido!\")\n",
    "    sexo = input(\"Qual o seu sexo (M, F ou Outro): \")\n",
    "    condicao_sexo = (sexo == 'M') or (sexo == 'F') or (sexo == 'Outro')\n",
    "\n",
    "print(\"Todas entradas estão válidas\")\n",
    "print(f'Idade: {idade}, salário: {salario} e sexo: {sexo}')\n",
    "\n",
    "# 6) Faça uma calculadora. O usuário deve inserir qual a operação matemática ele deseja realizar e logo em seguida os dois números. O programa deve finalizar apenas quando o usuário digitar a opção \"sair\" no momento de escolha da operação matemática.\n",
    "\n",
    "operacao = ''\n",
    "\n",
    "while operacao != 'sair':\n",
    "    operacao = input(\n",
    "        'A = Adição\\nS = Subtração\\nM = Multiplicação\\nD = Divisão\\nDigite a operação desejada: '\n",
    "    )\n",
    "    operacao = operacao.lower()\n",
    "    if operacao in [\"a\", \"s\", \"m\", \"d\"]:\n",
    "        num1 = float(input(\"Digite o primeiro número: \"))\n",
    "        num2 = float(input(\"Digite o segundo número: \"))\n",
    "        if operacao == \"a\":\n",
    "            print(f\"{num1} + {num2} = {num1+num2}\")\n",
    "        elif operacao == \"s\":\n",
    "            print(f\"{num1} - {num2} = {num1-num2}\")\n",
    "        elif operacao == \"m\":\n",
    "            print(f\"{num1} * {num2} = {num1*num2}\")\n",
    "        elif num2 == 0:\n",
    "            print('Não é possível dividir por zero!')\n",
    "        else:\n",
    "            print(f\"{num1} / {num2} = {num1/num2}\")\n",
    "    elif operacao != 'sair':\n",
    "        print(\"operação inválida!\")\n",
    "print('\\nPrograma finalizado :)')\n",
    "\n"
   ]
  },
  {
   "cell_type": "code",
   "execution_count": null,
   "id": "080d7ae9",
   "metadata": {},
   "outputs": [],
   "source": []
  }
 ],
 "metadata": {
  "kernelspec": {
   "display_name": "Python 3 (ipykernel)",
   "language": "python",
   "name": "python3"
  },
  "language_info": {
   "codemirror_mode": {
    "name": "ipython",
    "version": 3
   },
   "file_extension": ".py",
   "mimetype": "text/x-python",
   "name": "python",
   "nbconvert_exporter": "python",
   "pygments_lexer": "ipython3",
   "version": "3.12.0"
  }
 },
 "nbformat": 4,
 "nbformat_minor": 5
}
