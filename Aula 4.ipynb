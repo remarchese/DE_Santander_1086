{
 "cells": [
  {
   "cell_type": "markdown",
   "id": "edf393f5",
   "metadata": {},
   "source": [
    "<div style=\"background-color: lightblue; padding: 10px;\">\n",
    "    <h2> Tópicos da aula - AULA 4\n",
    "</div>\n",
    "\n",
    "- Loop for\n",
    "- Listas\n",
    "- Índices\n",
    "- Iterações de listas\n",
    "- Métodos de listas"
   ]
  },
  {
   "cell_type": "markdown",
   "id": "d603219a",
   "metadata": {},
   "source": [
    "Criar um programa que a pessoa digita 10 números e dizemos o maior.   \n",
    "E se quisermos o 2° maior? E se quisermos o 5º? \n",
    "\n",
    "Podemos resolver com **listas**\n",
    "\n",
    "- Listas\n",
    "\n",
    "Listas são coleções de objetos em Python e é expressada em `[]`"
   ]
  },
  {
   "cell_type": "code",
   "execution_count": 1,
   "id": "dda0614d",
   "metadata": {},
   "outputs": [],
   "source": [
    "lista_1 = [] # lista vazia\n",
    "lista_2 = [1, 2, 3, 4]\n",
    "lista_3 = list() # função que cria uma lista, neste caso vazia\n",
    "lista_4 = [1, 2.5, 3, 4] # misturando float e int\n",
    "lista_5 = [1, 2.0, 'três'] # é uma lista com int, float e str dentro dela\n",
    "lista_6 = [1, [2, 3]] # lista dentro de lista"
   ]
  },
  {
   "cell_type": "code",
   "execution_count": 2,
   "id": "97123b25",
   "metadata": {},
   "outputs": [
    {
     "data": {
      "text/plain": [
       "list"
      ]
     },
     "execution_count": 2,
     "metadata": {},
     "output_type": "execute_result"
    }
   ],
   "source": [
    "type(lista_2)"
   ]
  },
  {
   "cell_type": "code",
   "execution_count": 3,
   "id": "33648511",
   "metadata": {},
   "outputs": [],
   "source": [
    "lista =   [1, 3, 5, 7, 9, 11, 13, 15, 17, 21] # 10 elementos\n",
    "# índices  0  1  2  3  4  5   6   7   8   9 --> NO PYTHON, O INDEX SEMPRE COMEÇA COM ZERO\n",
    "# índices => posição dos elementos"
   ]
  },
  {
   "cell_type": "code",
   "execution_count": 4,
   "id": "96c437f9",
   "metadata": {},
   "outputs": [
    {
     "data": {
      "text/plain": [
       "[1, 3, 5, 7, 9, 11, 13, 15, 17, 21]"
      ]
     },
     "execution_count": 4,
     "metadata": {},
     "output_type": "execute_result"
    }
   ],
   "source": [
    "lista # posição dos elementos é importante"
   ]
  },
  {
   "cell_type": "markdown",
   "id": "efadfd9f",
   "metadata": {},
   "source": [
    "Funções e métodos de listas"
   ]
  },
  {
   "cell_type": "code",
   "execution_count": 5,
   "id": "a9d27acd",
   "metadata": {},
   "outputs": [
    {
     "data": {
      "text/plain": [
       "10"
      ]
     },
     "execution_count": 5,
     "metadata": {},
     "output_type": "execute_result"
    }
   ],
   "source": [
    "len(lista)   # quantidade de elementos da lista"
   ]
  },
  {
   "cell_type": "code",
   "execution_count": 7,
   "id": "ba4507e5",
   "metadata": {},
   "outputs": [
    {
     "data": {
      "text/plain": [
       "1"
      ]
     },
     "execution_count": 7,
     "metadata": {},
     "output_type": "execute_result"
    }
   ],
   "source": [
    "# Acessar os elementos da lista a partir da posição\n",
    "\n",
    "lista[0] # o num 1 é a posição 0 da lista"
   ]
  },
  {
   "cell_type": "code",
   "execution_count": 9,
   "id": "14c3c921",
   "metadata": {},
   "outputs": [
    {
     "data": {
      "text/plain": [
       "17"
      ]
     },
     "execution_count": 9,
     "metadata": {},
     "output_type": "execute_result"
    }
   ],
   "source": [
    "lista[8] # o num 17 é a posição 8 da lista"
   ]
  },
  {
   "cell_type": "code",
   "execution_count": 10,
   "id": "eaeb7029",
   "metadata": {},
   "outputs": [
    {
     "data": {
      "text/plain": [
       "21"
      ]
     },
     "execution_count": 10,
     "metadata": {},
     "output_type": "execute_result"
    }
   ],
   "source": [
    "lista[9] # o num 21 é a posição 9 da lista"
   ]
  },
  {
   "cell_type": "code",
   "execution_count": 11,
   "id": "1ad51ff3",
   "metadata": {},
   "outputs": [
    {
     "data": {
      "text/plain": [
       "21"
      ]
     },
     "execution_count": 11,
     "metadata": {},
     "output_type": "execute_result"
    }
   ],
   "source": [
    "lista[-1] # -1 acessa o elemento da última posição da lista"
   ]
  },
  {
   "cell_type": "code",
   "execution_count": 14,
   "id": "fb5dbfcf",
   "metadata": {},
   "outputs": [
    {
     "name": "stdout",
     "output_type": "stream",
     "text": [
      "1\n",
      "3\n",
      "5\n",
      "7\n",
      "9\n",
      "11\n",
      "21\n"
     ]
    },
    {
     "ename": "IndexError",
     "evalue": "list index out of range",
     "output_type": "error",
     "traceback": [
      "\u001b[1;31m---------------------------------------------------------------------------\u001b[0m",
      "\u001b[1;31mIndexError\u001b[0m                                Traceback (most recent call last)",
      "Cell \u001b[1;32mIn[14], line 17\u001b[0m\n\u001b[0;32m     13\u001b[0m \u001b[38;5;28mprint\u001b[39m(lista[\u001b[38;5;241m5\u001b[39m])\n\u001b[0;32m     15\u001b[0m \u001b[38;5;28mprint\u001b[39m(lista[\u001b[38;5;241m9\u001b[39m])\n\u001b[1;32m---> 17\u001b[0m \u001b[38;5;28mprint\u001b[39m(\u001b[43mlista\u001b[49m\u001b[43m[\u001b[49m\u001b[38;5;241;43m10\u001b[39;49m\u001b[43m]\u001b[49m)\n",
      "\u001b[1;31mIndexError\u001b[0m: list index out of range"
     ]
    }
   ],
   "source": [
    "# Acessar os elementos da lista\n",
    "\n",
    "print(lista[0]) # mostra o valor da posição zero da variável lista\n",
    "\n",
    "print(lista[1])\n",
    "\n",
    "print(lista[2])\n",
    "\n",
    "print(lista[3])\n",
    "\n",
    "print(lista[4])\n",
    "\n",
    "print(lista[5])\n",
    "\n",
    "print(lista[9])\n",
    "\n",
    "print(lista[10]) # Dá erro pois não tem a posição de índice 10 (lembrando que o python começa no zero)"
   ]
  },
  {
   "cell_type": "code",
   "execution_count": 16,
   "id": "64fcaab2",
   "metadata": {},
   "outputs": [
    {
     "data": {
      "text/plain": [
       "21"
      ]
     },
     "execution_count": 16,
     "metadata": {},
     "output_type": "execute_result"
    }
   ],
   "source": [
    "lista[len(lista)-1] # len(lista) = 10 # acessa o último valor"
   ]
  },
  {
   "cell_type": "code",
   "execution_count": 17,
   "id": "58d51fa1",
   "metadata": {},
   "outputs": [
    {
     "name": "stdout",
     "output_type": "stream",
     "text": [
      "[1, 2.0, 'três']\n"
     ]
    }
   ],
   "source": [
    "print(lista_5) # int, float, str"
   ]
  },
  {
   "cell_type": "code",
   "execution_count": 18,
   "id": "d151140d",
   "metadata": {},
   "outputs": [
    {
     "data": {
      "text/plain": [
       "list"
      ]
     },
     "execution_count": 18,
     "metadata": {},
     "output_type": "execute_result"
    }
   ],
   "source": [
    "type(lista_5) #saber o tipo da var lista_5"
   ]
  },
  {
   "cell_type": "code",
   "execution_count": 19,
   "id": "5c0a5740",
   "metadata": {},
   "outputs": [
    {
     "data": {
      "text/plain": [
       "int"
      ]
     },
     "execution_count": 19,
     "metadata": {},
     "output_type": "execute_result"
    }
   ],
   "source": [
    "# saber o tipo do elemento zero da lista\n",
    "type(lista_5[0])"
   ]
  },
  {
   "cell_type": "code",
   "execution_count": 20,
   "id": "fc2b9d32",
   "metadata": {},
   "outputs": [
    {
     "data": {
      "text/plain": [
       "float"
      ]
     },
     "execution_count": 20,
     "metadata": {},
     "output_type": "execute_result"
    }
   ],
   "source": [
    "type(lista_5[1])"
   ]
  },
  {
   "cell_type": "code",
   "execution_count": 21,
   "id": "80f8b37f",
   "metadata": {},
   "outputs": [
    {
     "data": {
      "text/plain": [
       "str"
      ]
     },
     "execution_count": 21,
     "metadata": {},
     "output_type": "execute_result"
    }
   ],
   "source": [
    "type(lista_5[2])"
   ]
  },
  {
   "cell_type": "code",
   "execution_count": 22,
   "id": "cbee6431",
   "metadata": {},
   "outputs": [
    {
     "ename": "IndexError",
     "evalue": "list index out of range",
     "output_type": "error",
     "traceback": [
      "\u001b[1;31m---------------------------------------------------------------------------\u001b[0m",
      "\u001b[1;31mIndexError\u001b[0m                                Traceback (most recent call last)",
      "Cell \u001b[1;32mIn[22], line 1\u001b[0m\n\u001b[1;32m----> 1\u001b[0m \u001b[38;5;28mtype\u001b[39m(\u001b[43mlista_5\u001b[49m\u001b[43m[\u001b[49m\u001b[38;5;241;43m3\u001b[39;49m\u001b[43m]\u001b[49m)\n",
      "\u001b[1;31mIndexError\u001b[0m: list index out of range"
     ]
    }
   ],
   "source": [
    "type(lista_5[3])"
   ]
  },
  {
   "cell_type": "code",
   "execution_count": 23,
   "id": "e71ecf4f",
   "metadata": {},
   "outputs": [
    {
     "data": {
      "text/plain": [
       "str"
      ]
     },
     "execution_count": 23,
     "metadata": {},
     "output_type": "execute_result"
    }
   ],
   "source": [
    "type(lista_5[-1])"
   ]
  },
  {
   "cell_type": "code",
   "execution_count": 24,
   "id": "b250ecb3",
   "metadata": {},
   "outputs": [
    {
     "data": {
      "text/plain": [
       "'três'"
      ]
     },
     "execution_count": 24,
     "metadata": {},
     "output_type": "execute_result"
    }
   ],
   "source": [
    "lista_5[-1]"
   ]
  },
  {
   "cell_type": "code",
   "execution_count": 25,
   "id": "94a8a7b0",
   "metadata": {},
   "outputs": [
    {
     "data": {
      "text/plain": [
       "[1, 3, 5, 7, 9, 11, 13, 15, 17, 21]"
      ]
     },
     "execution_count": 25,
     "metadata": {},
     "output_type": "execute_result"
    }
   ],
   "source": [
    "lista"
   ]
  },
  {
   "cell_type": "code",
   "execution_count": 28,
   "id": "17167403",
   "metadata": {},
   "outputs": [
    {
     "data": {
      "text/plain": [
       "1"
      ]
     },
     "execution_count": 28,
     "metadata": {},
     "output_type": "execute_result"
    }
   ],
   "source": [
    "lista[0]"
   ]
  },
  {
   "cell_type": "code",
   "execution_count": 30,
   "id": "07843fbc",
   "metadata": {},
   "outputs": [
    {
     "data": {
      "text/plain": [
       "1"
      ]
     },
     "execution_count": 30,
     "metadata": {},
     "output_type": "execute_result"
    }
   ],
   "source": [
    "[1, 3, 5, 7, 9, 11, 13, 15, 17, 21][0]"
   ]
  },
  {
   "cell_type": "code",
   "execution_count": 52,
   "id": "e49e6419",
   "metadata": {},
   "outputs": [
    {
     "name": "stdout",
     "output_type": "stream",
     "text": [
      "[1, 3, 5, 7, 9, 11, 13, 15, 17, 21]\n",
      "[1, 3, 5]\n",
      "[1, 3, 5]\n",
      "[13, 15, 17, 21]\n",
      "[13, 15, 17, 21]\n",
      "[13, 15, 17]\n",
      "[7, 9, 11]\n",
      "1\n",
      "[1]\n",
      "[1, 3, 5, 7, 9, 11, 13, 15]\n",
      "[3, 5, 7, 9, 11, 13, 15]\n",
      "[3, 7, 11, 15]\n"
     ]
    }
   ],
   "source": [
    "# Slice- fatiando uma lista\n",
    "\n",
    "print(lista[:]) # lista[inicio:fim]   [:] --> todos os valores ****fim: exclusivo****\n",
    "\n",
    "print(lista[0:3]) # os 3 primeiros elementos da lista # índice 0, 1 e 2 (o 3 não entra)\n",
    "print(lista[:3])  # no range de inicio: fim, não precisa do zero\n",
    "\n",
    "print(lista[6:10]) # do valor 13 até o final\n",
    "print(lista[6:]) # do valor 13 até o final\n",
    "\n",
    "print(lista[6:-1])\n",
    "\n",
    "print(lista[3:6])\n",
    "\n",
    "print(lista[0])\n",
    "print(lista[0:1]) # continuo tendo uma lista\n",
    "\n",
    "print(lista[:-2]) # vai até o 15. Não entra o 17 e nem o 21\n",
    "\n",
    "print(lista[1:8]) \n",
    "\n",
    "print(lista[1:8:2]) # do início ao fim em passos (intervalos) --> lista[inicio:fim:passo]"
   ]
  },
  {
   "cell_type": "code",
   "execution_count": 53,
   "id": "ed98f122",
   "metadata": {},
   "outputs": [],
   "source": [
    "# Substituir um valor da lista\n",
    "\n",
    "lista[2] = 11 # substituir o valor da posição 2 pelo valor 11"
   ]
  },
  {
   "cell_type": "code",
   "execution_count": 54,
   "id": "2d95c575",
   "metadata": {},
   "outputs": [
    {
     "data": {
      "text/plain": [
       "[1, 3, 11, 7, 9, 11, 13, 15, 17, 21]"
      ]
     },
     "execution_count": 54,
     "metadata": {},
     "output_type": "execute_result"
    }
   ],
   "source": [
    "lista # posição 2 é o 3o elemento"
   ]
  },
  {
   "cell_type": "code",
   "execution_count": 56,
   "id": "5f09802b",
   "metadata": {},
   "outputs": [
    {
     "name": "stdout",
     "output_type": "stream",
     "text": [
      "[1, 3, 11, 7, 9, 11, 13, 15, 17, 21, 99]\n"
     ]
    }
   ],
   "source": [
    "# acrescentar valores na lista --> usando a \"função\" append\n",
    "\n",
    "lista.append(99) # acrescentar o valor 99 na última posição\n",
    "\n",
    "print(lista)"
   ]
  },
  {
   "cell_type": "code",
   "execution_count": 57,
   "id": "28590a8e",
   "metadata": {},
   "outputs": [],
   "source": [
    "lista.append(-1)"
   ]
  },
  {
   "cell_type": "code",
   "execution_count": 58,
   "id": "0a104aca",
   "metadata": {},
   "outputs": [
    {
     "data": {
      "text/plain": [
       "[1, 3, 11, 7, 9, 11, 13, 15, 17, 21, 99, -1]"
      ]
     },
     "execution_count": 58,
     "metadata": {},
     "output_type": "execute_result"
    }
   ],
   "source": [
    "lista"
   ]
  },
  {
   "cell_type": "code",
   "execution_count": 62,
   "id": "6c5a549e",
   "metadata": {},
   "outputs": [
    {
     "name": "stdout",
     "output_type": "stream",
     "text": [
      "[1, 2.5, 3, 4]\n",
      "[1, 2.0, 'três']\n"
     ]
    },
    {
     "data": {
      "text/plain": [
       "[1, 2.5, 3, 4, 1, 2.0, 'três']"
      ]
     },
     "execution_count": 62,
     "metadata": {},
     "output_type": "execute_result"
    }
   ],
   "source": [
    "# listas funções e operação\n",
    "\n",
    "print(lista_4)\n",
    "print(lista_5)\n",
    "\n",
    "nova_lista = lista_4 + lista_5 # juntando e não somando\n",
    "nova_lista"
   ]
  },
  {
   "cell_type": "markdown",
   "id": "bfd46f91",
   "metadata": {},
   "source": [
    "Existem várias outras funções/métodos de listas que vocês irão aprender no próximo módulo, como:\n",
    "\n",
    "- append\n",
    "- insert\n",
    "- remove\n",
    "- pop\n",
    "- sort | sorted\n",
    "- reverse\n",
    "- index\n",
    "- max, min, len"
   ]
  },
  {
   "cell_type": "code",
   "execution_count": 63,
   "id": "89f664c3",
   "metadata": {},
   "outputs": [
    {
     "data": {
      "text/plain": [
       "[-1, 1, 3, 7, 9, 11, 11, 13, 15, 17, 21, 99]"
      ]
     },
     "execution_count": 63,
     "metadata": {},
     "output_type": "execute_result"
    }
   ],
   "source": [
    "sorted(lista)"
   ]
  },
  {
   "cell_type": "code",
   "execution_count": 64,
   "id": "bdfb2e66",
   "metadata": {},
   "outputs": [
    {
     "data": {
      "text/plain": [
       "99"
      ]
     },
     "execution_count": 64,
     "metadata": {},
     "output_type": "execute_result"
    }
   ],
   "source": [
    "max(lista)"
   ]
  },
  {
   "cell_type": "code",
   "execution_count": 65,
   "id": "6e8562d7",
   "metadata": {},
   "outputs": [
    {
     "data": {
      "text/plain": [
       "-1"
      ]
     },
     "execution_count": 65,
     "metadata": {},
     "output_type": "execute_result"
    }
   ],
   "source": [
    "min(lista)"
   ]
  },
  {
   "cell_type": "code",
   "execution_count": 67,
   "id": "107332f4",
   "metadata": {},
   "outputs": [
    {
     "ename": "TypeError",
     "evalue": "'<' not supported between instances of 'str' and 'float'",
     "output_type": "error",
     "traceback": [
      "\u001b[1;31m---------------------------------------------------------------------------\u001b[0m",
      "\u001b[1;31mTypeError\u001b[0m                                 Traceback (most recent call last)",
      "Cell \u001b[1;32mIn[67], line 2\u001b[0m\n\u001b[0;32m      1\u001b[0m \u001b[38;5;66;03m# [1, 2.0, 'três']\u001b[39;00m\n\u001b[1;32m----> 2\u001b[0m \u001b[38;5;28;43msorted\u001b[39;49m\u001b[43m(\u001b[49m\u001b[43mlista_5\u001b[49m\u001b[43m)\u001b[49m\n",
      "\u001b[1;31mTypeError\u001b[0m: '<' not supported between instances of 'str' and 'float'"
     ]
    }
   ],
   "source": [
    "# [1, 2.0, 'três']\n",
    "sorted(lista_5)"
   ]
  },
  {
   "cell_type": "code",
   "execution_count": 68,
   "id": "bd7bd9a9",
   "metadata": {},
   "outputs": [
    {
     "name": "stdout",
     "output_type": "stream",
     "text": [
      "Digite um número: 1\n",
      "Digite um número: 3\n",
      "Digite um número: 5\n",
      "Digite um número: 7\n",
      "Digite um número: 9\n",
      "Digite um número: 11\n",
      "Digite um número: 0\n",
      "[1, 3, 5, 7, 9, 11]\n"
     ]
    }
   ],
   "source": [
    "# como adicionar vários elementos a uma lista enquanto o usuário fornece valores?\n",
    "# se o usuário digitar 0, finaliza o programa\n",
    "\n",
    "lista = [] # criar uma lista vazia ou list()\n",
    "numero = int(input('Digite um número: '))\n",
    "\n",
    "while numero != 0:\n",
    "    lista.append(numero) # adicionando o numero que o usuario digitou na lista\n",
    "    numero = int(input('Digite um número: '))\n",
    "    \n",
    "print(lista)"
   ]
  },
  {
   "cell_type": "code",
   "execution_count": 69,
   "id": "239183e0",
   "metadata": {},
   "outputs": [
    {
     "name": "stdout",
     "output_type": "stream",
     "text": [
      "Digite um número: 1\n",
      "Digite um número: 3\n",
      "Digite um número: 5\n",
      "Digite um número: 7\n",
      "Digite um número: 9\n",
      "Digite um número: 11\n",
      "Digite um número: 0\n",
      "[3, 5, 7, 9, 11, 0]\n"
     ]
    }
   ],
   "source": [
    "lista = [] # criar uma lista vazia ou list()\n",
    "numero = int(input('Digite um número: '))\n",
    "\n",
    "while numero != 0:\n",
    "    \n",
    "    numero = int(input('Digite um número: '))\n",
    "    lista.append(numero) # adicionando o numero que o usuario digitou na lista\n",
    "    \n",
    "print(lista)"
   ]
  },
  {
   "cell_type": "markdown",
   "id": "e9defdce",
   "metadata": {},
   "source": [
    "**Percorrer os elementos da lista**"
   ]
  },
  {
   "cell_type": "code",
   "execution_count": 72,
   "id": "a8770382",
   "metadata": {},
   "outputs": [
    {
     "name": "stdout",
     "output_type": "stream",
     "text": [
      "indice 0\n",
      "indice 1\n",
      "indice 2\n",
      "indice 3\n",
      "indice 4\n",
      "indice 5\n",
      "35\n"
     ]
    }
   ],
   "source": [
    "# Dada uma lista de números, somar os elementos dessa lista usando os índices\n",
    "\n",
    "numeros = [1,3,5,6,9,11]\n",
    "soma = 0\n",
    "indice = 0\n",
    "\n",
    "while indice < len(numeros):\n",
    "    print('indice', indice)\n",
    "    soma = soma + numeros[indice]\n",
    "    \n",
    "    indice += 1\n",
    "\n",
    "print(soma)"
   ]
  },
  {
   "cell_type": "code",
   "execution_count": 73,
   "id": "9a420965",
   "metadata": {},
   "outputs": [
    {
     "data": {
      "text/plain": [
       "35"
      ]
     },
     "execution_count": 73,
     "metadata": {},
     "output_type": "execute_result"
    }
   ],
   "source": [
    "# outra forma de somar todos os elementos de uma lista\n",
    "\n",
    "sum(numeros)"
   ]
  },
  {
   "cell_type": "code",
   "execution_count": 74,
   "id": "0b0bbb01",
   "metadata": {},
   "outputs": [
    {
     "name": "stdout",
     "output_type": "stream",
     "text": [
      "1\n",
      "3\n",
      "5\n",
      "7\n",
      "9\n"
     ]
    }
   ],
   "source": [
    "# Crie uma lisa qualquer e imprima cada um dos elementos usando while\n",
    "\n",
    "numeros = [1,3,5,7,9]\n",
    "indice = 0\n",
    "\n",
    "while indice < len(numeros):\n",
    "    print(numeros[indice])\n",
    "    indice += 1"
   ]
  },
  {
   "cell_type": "code",
   "execution_count": 76,
   "id": "f50dd9df",
   "metadata": {},
   "outputs": [
    {
     "name": "stdout",
     "output_type": "stream",
     "text": [
      "Digite a quantidade da lista: 10\n",
      "[0, 1, 2, 3, 4, 5, 6, 7, 8, 9]\n",
      "10\n"
     ]
    }
   ],
   "source": [
    "# Crie uma lista crescente (começando do 0) com a quantidade de elementos dada pelo usuário\n",
    "\n",
    "numero = int(input('Digite a quantidade da lista: '))\n",
    "\n",
    "lista = []\n",
    "indice = 0\n",
    "\n",
    "while indice < numero:\n",
    "    lista.append(indice)\n",
    "    indice += 1\n",
    "\n",
    "print(lista)\n",
    "print(len(lista))"
   ]
  },
  {
   "cell_type": "code",
   "execution_count": 79,
   "id": "12e266c7",
   "metadata": {},
   "outputs": [
    {
     "name": "stdout",
     "output_type": "stream",
     "text": [
      "O range(0, 5) cria uma lista [0, 1, 2, 3, 4]\n"
     ]
    }
   ],
   "source": [
    "# poderíamos substituir tudo por range(valor)\n",
    "\n",
    "range(5) # stop = 5 e start = 0 \n",
    "\n",
    "range(0,5) # start =0  e stop = 5\n",
    "\n",
    "# range(stop) -> range object\n",
    "# range(start, stop[, step]) -> range object\n",
    "\n",
    "print(f'O {range(0,5)} cria uma lista [0, 1, 2, 3, 4]')"
   ]
  },
  {
   "cell_type": "code",
   "execution_count": 80,
   "id": "8a8ca325",
   "metadata": {},
   "outputs": [
    {
     "name": "stdout",
     "output_type": "stream",
     "text": [
      "Digite a quantidade da lista: 10\n",
      "[0, 1, 2, 3, 4, 5, 6, 7, 8, 9]\n"
     ]
    }
   ],
   "source": [
    "# voltando ao exercicio anterior\n",
    "\n",
    "numero = int(input('Digite a quantidade da lista: '))\n",
    "range(0,numero)\n",
    "\n",
    "print(list(range(0, 10)))"
   ]
  },
  {
   "cell_type": "markdown",
   "id": "be6fa768",
   "metadata": {},
   "source": [
    "**Maneiras de percorrer uma lista**\n",
    "\n",
    "numeros = [1, 3, 5, 7, 9]\n",
    "\n",
    "- Usando while\n",
    "\n",
    "Pros: Eu sei não só o elemento mas sei o indice também   \n",
    "Contra: Eu preciso controlar o índice\n",
    "\n",
    "```python\n",
    "contador = 0\n",
    "while (contador < len(numeros)):\n",
    "    print(numeros[contador])\n",
    "    contador = contador + 1  Se eu esquecer essa linha vira um loop infinito\n",
    "```\n",
    "\n",
    "\n",
    "- Jeito intermediario: for in range\n",
    "\n",
    "Pros: Sei o indice, não preciso controlar o loop  \n",
    "Contra: Precisa saber usar a função range  \n",
    "range(5) ->  [0, 1, 2, 3, 4]\n",
    "\n",
    "```python\n",
    "numeros = [1, 3, 5, 7, 9]\n",
    "for indice in range(len(numeros)):\n",
    "    print(numeros[indice])\n",
    "```\n",
    "\n",
    "\n",
    "- Usando só for (sem índice)\n",
    "\n",
    "Pros: não preciso me preocupar com o índice e nem com loop  \n",
    "Contra: não sei índice\n",
    "\n",
    "```python\n",
    "numeros = [1, 3, 5, 7, 9]\n",
    "for numero in numeros:        numero é uma especie de variavel temporaria, usamos item, elemento, etc\n",
    "    print(numero)\n",
    "```"
   ]
  },
  {
   "cell_type": "markdown",
   "id": "7f73ac47",
   "metadata": {},
   "source": [
    "Vamos ver um exemplo:"
   ]
  },
  {
   "cell_type": "code",
   "execution_count": 88,
   "id": "61f50e86",
   "metadata": {},
   "outputs": [
    {
     "name": "stdout",
     "output_type": "stream",
     "text": [
      "1\n",
      "3\n",
      "5\n",
      "7\n",
      "9\n",
      "\n",
      "Deixando o problema de forma genérica:\n",
      " \n",
      "1\n",
      "3\n",
      "5\n",
      "7\n",
      "9\n",
      "\n",
      "Deixando o problema de forma genérica:\n",
      " \n",
      "1\n",
      "3\n",
      "5\n",
      "7\n",
      "9\n"
     ]
    }
   ],
   "source": [
    "numeros = [1, 3, 5, 7, 9] # tenho essa lista\n",
    "\n",
    "# imprimir todos os elementos dessa lista sem usar o while\n",
    "\n",
    "print(numeros[0])\n",
    "print(numeros[1])\n",
    "print(numeros[2])\n",
    "print(numeros[3])\n",
    "print(numeros[4])\n",
    "\n",
    "print('\\nDeixando o problema de forma genérica:\\n ')\n",
    "\n",
    "for i in range(5):\n",
    "    print(numeros[i])\n",
    "    \n",
    "print('\\nDeixando o problema de forma genérica:\\n ')\n",
    "\n",
    "for i in range(len(numeros)):\n",
    "    print(numeros[i])"
   ]
  },
  {
   "cell_type": "code",
   "execution_count": 89,
   "id": "c30edc59",
   "metadata": {},
   "outputs": [
    {
     "name": "stdout",
     "output_type": "stream",
     "text": [
      "1\n",
      "3\n",
      "5\n",
      "7\n",
      "9\n"
     ]
    }
   ],
   "source": [
    "# Mais uma forma de usar o for - percorrendo cada item da lista\n",
    "\n",
    "numeros = [1, 3, 5, 7, 9]\n",
    "\n",
    "for item in numeros:\n",
    "    print(item)\n",
    "    "
   ]
  },
  {
   "cell_type": "code",
   "execution_count": null,
   "id": "e5efca65",
   "metadata": {},
   "outputs": [],
   "source": [
    "# para copiar uma lista\n",
    "\n",
    "listan2 = listan1 # não fazemos # apontando para o mesmo espaço de memória\n",
    "\n",
    "listan2 = listan1[:] # copiando uma lista para outra variável"
   ]
  },
  {
   "cell_type": "markdown",
   "id": "3d43231d",
   "metadata": {},
   "source": [
    "# Exercícios\n",
    "\n",
    "1. Crie uma lista qualquer e faça um programa que imprima cada elemento da lista usando o for."
   ]
  },
  {
   "cell_type": "code",
   "execution_count": 91,
   "id": "d9ccd126",
   "metadata": {},
   "outputs": [
    {
     "name": "stdout",
     "output_type": "stream",
     "text": [
      "a\n",
      "b\n",
      "c\n",
      "d\n"
     ]
    }
   ],
   "source": [
    "lista01 = ['a', 'b', 'c', 'd']\n",
    "\n",
    "for item in lista01:\n",
    "    print(item)"
   ]
  },
  {
   "cell_type": "code",
   "execution_count": 92,
   "id": "2cad392c",
   "metadata": {},
   "outputs": [
    {
     "name": "stdout",
     "output_type": "stream",
     "text": [
      "a\n",
      "b\n",
      "c\n",
      "d\n"
     ]
    }
   ],
   "source": [
    "lista01 = ['a', 'b', 'c', 'd']\n",
    "\n",
    "for i in lista01:\n",
    "    print(i)"
   ]
  },
  {
   "cell_type": "code",
   "execution_count": 93,
   "id": "d10726bd",
   "metadata": {},
   "outputs": [
    {
     "name": "stdout",
     "output_type": "stream",
     "text": [
      "a\n",
      "b\n",
      "c\n",
      "d\n"
     ]
    }
   ],
   "source": [
    "for elemento in ['a', 'b', 'c', 'd']:\n",
    "    print(elemento)"
   ]
  },
  {
   "cell_type": "markdown",
   "id": "a21c9056",
   "metadata": {},
   "source": [
    "2. Faça um programa que imprima todos os itens de uma lista usando while e compare com o exercício 1."
   ]
  },
  {
   "cell_type": "code",
   "execution_count": 95,
   "id": "e01e8acb",
   "metadata": {},
   "outputs": [
    {
     "name": "stdout",
     "output_type": "stream",
     "text": [
      "Item: a\n",
      "Item: b\n",
      "Item: c\n",
      "Item: d\n"
     ]
    }
   ],
   "source": [
    "lista01 = ['a', 'b', 'c', 'd']\n",
    "\n",
    "indice = 0\n",
    "while indice < len(lista01):\n",
    "    print(f'Item: {lista01[indice]}')\n",
    "    indice = indice + 1 #indice += 1"
   ]
  },
  {
   "cell_type": "markdown",
   "id": "783e6881",
   "metadata": {},
   "source": [
    "3. Faça um programa que peça para o usuário digitar um número n e imprima uma lista com todos os números de 0 a n-1."
   ]
  },
  {
   "cell_type": "code",
   "execution_count": 97,
   "id": "baf78969",
   "metadata": {},
   "outputs": [
    {
     "name": "stdout",
     "output_type": "stream",
     "text": [
      "n = 10\n",
      "[0, 1, 2, 3, 4, 5, 6, 7, 8, 9]\n"
     ]
    }
   ],
   "source": [
    "n = int(input(\"n = \"))\n",
    "\n",
    "lista = list(range(n))\n",
    "\n",
    "print(lista)"
   ]
  },
  {
   "cell_type": "code",
   "execution_count": 98,
   "id": "5648a15d",
   "metadata": {},
   "outputs": [
    {
     "name": "stdout",
     "output_type": "stream",
     "text": [
      "n = 10\n",
      "[0, 1, 2, 3, 4, 5, 6, 7, 8, 9]\n"
     ]
    }
   ],
   "source": [
    "n = int(input(\"n = \"))\n",
    "\n",
    "lista = []\n",
    "\n",
    "for i in range(n):\n",
    "    lista.append(i)\n",
    "    \n",
    "print(lista)\n",
    "    "
   ]
  },
  {
   "cell_type": "code",
   "execution_count": 99,
   "id": "79a1bf4e",
   "metadata": {},
   "outputs": [
    {
     "name": "stdout",
     "output_type": "stream",
     "text": [
      "n = 10\n",
      "[0, 1, 2, 3, 4, 5, 6, 7, 8, 9]\n"
     ]
    }
   ],
   "source": [
    "# Cria uma lista vazia\n",
    "lista = []\n",
    "\n",
    "# Pede o valor de n para o usuário\n",
    "n = int(input(\"n = \"))\n",
    "\n",
    "# Para cara número no intervalo (0, n-1)...\n",
    "for numero in range(n):\n",
    "\n",
    "    # ...adiciona o número à lista\n",
    "    lista.append(numero)\n",
    "\n",
    "# Imprime a lista\n",
    "print(lista)"
   ]
  },
  {
   "cell_type": "markdown",
   "id": "ff2b61ef",
   "metadata": {},
   "source": [
    "4. Faça um programa que olhe todos os itens de uma lista e diga quantos deles são pares. "
   ]
  },
  {
   "cell_type": "code",
   "execution_count": 100,
   "id": "bfebe071",
   "metadata": {},
   "outputs": [
    {
     "name": "stdout",
     "output_type": "stream",
     "text": [
      "5\n"
     ]
    }
   ],
   "source": [
    "numeros = [1, 2, 3, 4, 5, 6, 7, 8, 9, 10]\n",
    "\n",
    "pares = 0\n",
    "\n",
    "for elemento in numeros:\n",
    "    if elemento % 2 == 0:\n",
    "        pares += 1\n",
    "print(pares)"
   ]
  },
  {
   "cell_type": "code",
   "execution_count": 101,
   "id": "25e9af19",
   "metadata": {},
   "outputs": [
    {
     "name": "stdout",
     "output_type": "stream",
     "text": [
      "Existem 5 números pares na sua lista\n",
      "[4, 6, 8, 10, 12]\n"
     ]
    }
   ],
   "source": [
    "# quais deles são pares\n",
    "lista = [1, 3, 4, 5, 6, 7, 8, 9, 10, 12]\n",
    "pares = []\n",
    "\n",
    "for elemento in lista:\n",
    "    if elemento % 2 == 0:\n",
    "        pares.append(elemento)\n",
    "\n",
    "print(f\"Existem {len(pares)} números pares na sua lista\")\n",
    "print(pares)"
   ]
  },
  {
   "cell_type": "markdown",
   "id": "f00ca5bd",
   "metadata": {},
   "source": [
    "5. Faça um programa que imprima o maior número de uma lista, sem usar o método max()"
   ]
  },
  {
   "cell_type": "code",
   "execution_count": 102,
   "id": "0c886cfc",
   "metadata": {},
   "outputs": [
    {
     "data": {
      "text/plain": [
       "12"
      ]
     },
     "execution_count": 102,
     "metadata": {},
     "output_type": "execute_result"
    }
   ],
   "source": [
    "lista = [1, 3, 4, 5, 6, 7, 8, 9, 10, 12]\n",
    "\n",
    "max(lista)"
   ]
  },
  {
   "cell_type": "code",
   "execution_count": 103,
   "id": "a2ac32ad",
   "metadata": {},
   "outputs": [
    {
     "data": {
      "text/plain": [
       "12"
      ]
     },
     "execution_count": 103,
     "metadata": {},
     "output_type": "execute_result"
    }
   ],
   "source": [
    "lista = [12, 3, 4, 5, 6, 7, 8, 9, 10, 1]\n",
    "\n",
    "sorted(lista)[-1]"
   ]
  },
  {
   "cell_type": "code",
   "execution_count": 104,
   "id": "71c8ad3f",
   "metadata": {},
   "outputs": [
    {
     "name": "stdout",
     "output_type": "stream",
     "text": [
      "O maior elemento da lista é 12\n"
     ]
    }
   ],
   "source": [
    "lista = [1, 4, -8, 12, 3, -5, 2, -14, 6]\n",
    "maior = lista[0]\n",
    "\n",
    "for elemento in lista:\n",
    "    if elemento > maior:\n",
    "        maior = elemento\n",
    "print(\"O maior elemento da lista é\", maior)"
   ]
  },
  {
   "cell_type": "markdown",
   "id": "aac32f79",
   "metadata": {},
   "source": [
    "6. Agora usando o método max() faça um programa que imprima os três maiores números de uma lista. "
   ]
  },
  {
   "cell_type": "code",
   "execution_count": 105,
   "id": "23bb65c4",
   "metadata": {},
   "outputs": [
    {
     "name": "stdout",
     "output_type": "stream",
     "text": [
      "12\n",
      "6\n",
      "4\n"
     ]
    }
   ],
   "source": [
    "lista = [1, 4, -8, 12, 3, -5, 2, -14, 6]\n",
    "\n",
    "for i in range(3):\n",
    "    maior_numero = max(lista)\n",
    "    print(maior_numero)\n",
    "    lista.remove(maior_numero) # remove o maior valor da lista para depois pegar o segundo"
   ]
  },
  {
   "cell_type": "markdown",
   "id": "55b4a03c",
   "metadata": {},
   "source": [
    "7. Faça um programa que, dadas duas listas de mesmo tamanho, crie uma nova lista com cada elemento igual a soma dos elementos da lista 1 com os da lista 2, na mesma posição. "
   ]
  },
  {
   "cell_type": "code",
   "execution_count": null,
   "id": "341819d0",
   "metadata": {},
   "outputs": [],
   "source": [
    "lista1 = [1,4,5]\n",
    "lista2 = [2,2,3]\n",
    "lista3 = []\n",
    "\n",
    "if len(lista1) != len(lista2):\n",
    "    print(\"As listas tem tamanhos diferentes!\")\n",
    "else:\n",
    "    for i in range(len(lista1)):\n",
    "        valor = lista1[i] + lista2[i]\n",
    "        lista3.append(valor)\n",
    "    print(lista3)"
   ]
  },
  {
   "cell_type": "markdown",
   "id": "ca0adf64",
   "metadata": {},
   "source": [
    "8. Faça um programa que dadas duas listas de mesmo tamanho, imprima o produto escalar entre elas. "
   ]
  },
  {
   "cell_type": "code",
   "execution_count": null,
   "id": "6bbde856",
   "metadata": {},
   "outputs": [],
   "source": [
    "lista1 = [1, 4, 5]\n",
    "lista2 = [2, 2, 3]\n",
    "soma = 0\n",
    "\n",
    "for i in range(len(lista1)):\n",
    "    soma = soma + lista1[i]*lista2[i]\n",
    "print(soma)"
   ]
  },
  {
   "cell_type": "markdown",
   "id": "95f42582",
   "metadata": {},
   "source": [
    "9. Faça um programa que pede para o usuário digitar 5 números e, ao final, imprime uma lista com os 5 números digitados pelo usuário (sem converter os números para int ou float). "
   ]
  },
  {
   "cell_type": "code",
   "execution_count": null,
   "id": "e4b1b430",
   "metadata": {},
   "outputs": [],
   "source": [
    "lista = []\n",
    "for i in range(5):\n",
    "    num = input(\"Digite um número: \")\n",
    "    lista.append(num)\n",
    "print(lista)"
   ]
  },
  {
   "cell_type": "markdown",
   "id": "31d3958e",
   "metadata": {},
   "source": [
    "10. Pegue a lista gerada no exercício anterior e transforme cada um dos itens dessa lista em um float."
   ]
  },
  {
   "cell_type": "code",
   "execution_count": null,
   "id": "ed4732bc",
   "metadata": {},
   "outputs": [],
   "source": [
    "for i in range(len(lista)):\n",
    "    lista[i] = float(lista[i])\n",
    "    \n",
    "print(lista)"
   ]
  },
  {
   "cell_type": "code",
   "execution_count": null,
   "id": "be9a4902",
   "metadata": {},
   "outputs": [],
   "source": [
    "lista_nova = []\n",
    "for item in lista:\n",
    "    lista_nova.append(float(item))\n",
    "\n",
    "print(lista_nova)"
   ]
  },
  {
   "cell_type": "markdown",
   "id": "c2093473",
   "metadata": {},
   "source": [
    "11. Faça um Programa que peça as 4 notas bimestrais e mostre a média, usando listas."
   ]
  },
  {
   "cell_type": "code",
   "execution_count": null,
   "id": "868f69c5",
   "metadata": {},
   "outputs": [],
   "source": [
    "lista = []\n",
    "\n",
    "for i in range(4):\n",
    "    nota = float(input(\"Digite a nota: \"))\n",
    "    lista.append(nota)\n",
    "print(sum(lista) / len(lista))"
   ]
  }
 ],
 "metadata": {
  "kernelspec": {
   "display_name": "Python 3 (ipykernel)",
   "language": "python",
   "name": "python3"
  },
  "language_info": {
   "codemirror_mode": {
    "name": "ipython",
    "version": 3
   },
   "file_extension": ".py",
   "mimetype": "text/x-python",
   "name": "python",
   "nbconvert_exporter": "python",
   "pygments_lexer": "ipython3",
   "version": "3.12.0"
  }
 },
 "nbformat": 4,
 "nbformat_minor": 5
}
