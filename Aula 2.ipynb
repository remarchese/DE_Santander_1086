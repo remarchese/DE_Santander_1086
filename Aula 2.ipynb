{
 "cells": [
  {
   "cell_type": "markdown",
   "id": "155300ac",
   "metadata": {},
   "source": [
    "<div style=\"background-color: lightblue; padding: 10px;\">\n",
    "    <h2> Tópicos da aula - AULA 3\n",
    "</div>\n",
    "\n",
    "- Operador lógico\n",
    "- Estrutura condicional e controle de fluxo\n",
    "- Comando if\n",
    "- Comando else\n",
    "- Comando elif\n",
    "- Funções de string (introdutório) - opcional\n",
    "\n"
   ]
  },
  {
   "cell_type": "markdown",
   "id": "9a2ac23c",
   "metadata": {},
   "source": [
    "Imagine que o critério de aprovação em uma escola seja a média superior a 7.0 e presença superior a 75%. Neste caso, o aluno precisa atender a ambos os critérios para ser aprovado. Se ele tirou uma ótima nota, mas faltou demais, será reprovado. Se ele compareceu a todas as aulas, mas teve notas baixas, idem.\n"
   ]
  },
  {
   "cell_type": "code",
   "execution_count": 4,
   "id": "c17c1b2f",
   "metadata": {},
   "outputs": [
    {
     "name": "stdout",
     "output_type": "stream",
     "text": [
      "Insira a nota do aluno: 7\n",
      "Insira o percentual de presença: 0.75\n",
      "O aluno foi aprovado?  True\n"
     ]
    }
   ],
   "source": [
    "media = float(input('Insira a nota do aluno: '))\n",
    "\n",
    "presenca = float(input('Insira o percentual de presença: '))\n",
    "\n",
    "aprovado = media >= 7.0 and presenca >= 0.75 \n",
    "\n",
    "print('O aluno foi aprovado? ', aprovado)"
   ]
  },
  {
   "cell_type": "markdown",
   "id": "0cc4b5e6",
   "metadata": {},
   "source": [
    "**Operadores lógicos**\n",
    "\n",
    "|     Operador    |                            Definição                           |     Operação    |\n",
    "|:---------------:|:--------------------------------------------------------------:|:---------------:|\n",
    "|        and      |     Retorna   True se ambas as afirmações forem verdadeiras    |         e       |\n",
    "|        or       |       Retorna   True se uma das afirmações for verdadeira      |        ou       |\n",
    "|        not      |          retorna   Falso se o resultado for verdadeiro         |        não      |\n",
    "\n",
    "\n",
    "<br>\n",
    "\n",
    "\n",
    "**AND** é uma conjunção lógica e o **OR** é uma disjunção lógica. O **not** é a negação lógica.\n",
    "\n",
    "| *A*   | *B*   | *A and B* | *A or B* | *not A* |\n",
    "|-------|-------|-----------|----------|---------|\n",
    "| False | False | False     | False    | True    |\n",
    "| False | True  | False     | True     | True    |\n",
    "| True  | False | False     | True     | False   |\n",
    "| True  | True  | True      | True     | False   |\n",
    "\n",
    "\n",
    "\n",
    "  \n",
    "\n",
    "Será que conseguimos escrever o problema acima de uma forma mais fácil?\n",
    "\n",
    "<br>\n",
    "\n",
    "## Estrutura condicional\n",
    "\n",
    "- if\n",
    "\n",
    "Obs.: Python é uma linguagem indentada"
   ]
  },
  {
   "cell_type": "code",
   "execution_count": 9,
   "id": "c598de98",
   "metadata": {},
   "outputs": [
    {
     "name": "stdout",
     "output_type": "stream",
     "text": [
      "Digite nota 1: 5\n",
      "Digite nota 2: 5\n",
      "A média é 5.0\n"
     ]
    }
   ],
   "source": [
    "nota1 = float(input('Digite nota 1: '))\n",
    "nota2 = float(input('Digite nota 2: '))\n",
    "\n",
    "media = (nota1 + nota2)/2\n",
    "\n",
    "if media >= 7: # comando codicional if\n",
    "    print('Aprovado') # só executa se a condição acima for verdadeira\n",
    "\n",
    "\n",
    "print(f'A média é {media}')"
   ]
  },
  {
   "cell_type": "markdown",
   "id": "f47d2e4e",
   "metadata": {},
   "source": [
    "- else"
   ]
  },
  {
   "cell_type": "code",
   "execution_count": 12,
   "id": "2a4bf4ca",
   "metadata": {},
   "outputs": [
    {
     "name": "stdout",
     "output_type": "stream",
     "text": [
      "Digite nota 1: 7\n",
      "Digite nota 2: 7\n",
      "Aprovado\n",
      "A média é 7.0\n"
     ]
    }
   ],
   "source": [
    "nota1 = float(input('Digite nota 1: '))\n",
    "nota2 = float(input('Digite nota 2: '))\n",
    "\n",
    "media = (nota1 + nota2)/2\n",
    "\n",
    "if media >= 7: # comando codicional if\n",
    "    print('Aprovado') # só executa se a condição acima for verdadeira\n",
    "else: # só executa se a condição for falsa\n",
    "    print('Reprovado')\n",
    "\n",
    "print(f'A média é {media}')"
   ]
  },
  {
   "cell_type": "markdown",
   "id": "aeb30413",
   "metadata": {},
   "source": [
    "Vamos acrescentar a presença para a aprovação do aluno"
   ]
  },
  {
   "cell_type": "code",
   "execution_count": 14,
   "id": "37960b5c",
   "metadata": {},
   "outputs": [
    {
     "name": "stdout",
     "output_type": "stream",
     "text": [
      "Digite nota 1: 7\n",
      "Digite nota 2: 7\n",
      "Digite a presença (0 a 1): 0.76\n",
      "Aprovado\n",
      "\n",
      "\n",
      "A média é 7.0 e a presença é 76.0%\n",
      "A média é 7.0 e a presença é 76.0 %\n",
      "A média é 7.0 e a presença é 76.0%\n",
      "A média é 7.0 e a presença é 76.0%\n"
     ]
    }
   ],
   "source": [
    "nota1 = float(input('Digite nota 1: '))\n",
    "nota2 = float(input('Digite nota 2: '))\n",
    "presenca = float(input('Digite a presença (0 a 1): '))\n",
    "\n",
    "media = (nota1 + nota2)/2\n",
    "\n",
    "if media >= 7 and presenca >= 0.75: # comando codicional if\n",
    "    print('Aprovado') # só executa se a condição acima for verdadeira\n",
    "else: # só executa se a condição for falsa\n",
    "    print('Reprovado')\n",
    "\n",
    "print('\\n')\n",
    "\n",
    "print(f'A média é {media} e a presença é {100*presenca}%')\n",
    "print('A média é', media, 'e a presença é', 100*presenca, '%')\n",
    "print('A média é ', media, ' e a presença é ', 100*presenca, '%', sep='')\n",
    "print('A média é {} e a presença é {}%'.format(media, 100*presenca))"
   ]
  },
  {
   "cell_type": "markdown",
   "id": "3e4a8151",
   "metadata": {},
   "source": [
    "A estrutura é essa (por enquanto):\n",
    "\n",
    "```python\n",
    "if (condicao): # condição\n",
    "    to do  # só executa se a condição for verdadeira\n",
    "else:  # só executa se a condição não for verdadeira\n",
    "    to do\n",
    "```  \n",
    "\n",
    "\n",
    "\n",
    "\n",
    "\n",
    "Vamos incluir a recuperação nesse exemplo (para facilitar, vamos deixar de lado a presença). O aluno tem direito a recuperação se a média é maior que 5.\n",
    "\n",
    "- se media for maior ou igual a 7: aprovado\n",
    "- se a media for maior ou igual a 5 e menor que 7: recuperacao\n",
    "- se a media for menor que 5: reprovado"
   ]
  },
  {
   "cell_type": "code",
   "execution_count": 15,
   "id": "cbdf20c7",
   "metadata": {},
   "outputs": [
    {
     "name": "stdout",
     "output_type": "stream",
     "text": [
      "Digite nota 1: 5\n",
      "Digite nota 2: 4\n",
      "Digite a presença (0 a 1): 0\n",
      "Reprovado\n",
      "A média é 4.5\n"
     ]
    }
   ],
   "source": [
    "nota1 = float(input('Digite nota 1: '))\n",
    "nota2 = float(input('Digite nota 2: '))\n",
    "\n",
    "media = (nota1 + nota2) / 2\n",
    "\n",
    "if media >= 7: # comando codicional if\n",
    "    print('Aprovado') # só executa se a condição acima for verdadeira\n",
    "if media >= 5 and media < 7:\n",
    "    print('Recuperação')\n",
    "if media < 5:\n",
    "    print('Reprovado')\n",
    "\n",
    "print(f'A média é {media}')\n"
   ]
  },
  {
   "cell_type": "markdown",
   "id": "d226a916",
   "metadata": {},
   "source": [
    "- elif"
   ]
  },
  {
   "cell_type": "code",
   "execution_count": 16,
   "id": "9464e4eb",
   "metadata": {},
   "outputs": [
    {
     "name": "stdout",
     "output_type": "stream",
     "text": [
      "Digite nota 1: 4\n",
      "Digite nota 2: 2\n",
      "Reprovado\n",
      "A média é 3.0\n"
     ]
    }
   ],
   "source": [
    "nota1 = float(input('Digite nota 1: '))\n",
    "nota2 = float(input('Digite nota 2: '))\n",
    "\n",
    "media = (nota1 + nota2) / 2\n",
    "\n",
    "if media >= 7: # comando codicional if\n",
    "    print('Aprovado') # só executa se a condição acima for verdadeira\n",
    "elif media >= 5: # só executa se a condição acima for falsa E essa condição for verdadeira\n",
    "    print('Recuperação')\n",
    "else:\n",
    "    print('Reprovado')\n",
    "\n",
    "print(f'A média é {media}')"
   ]
  },
  {
   "cell_type": "code",
   "execution_count": 24,
   "id": "385a470d",
   "metadata": {},
   "outputs": [
    {
     "name": "stdout",
     "output_type": "stream",
     "text": [
      "Digite a média: 7\n",
      "Aprovado\n"
     ]
    }
   ],
   "source": [
    "media = float(input('Digite a média: '))\n",
    "\n",
    "if media >= 7:\n",
    "    print('Aprovado') # com nota 7, ele sai da condição\n",
    "elif media >= 5:\n",
    "    print('Recuperação')\n",
    "elif media >= 4.5:\n",
    "    print('Quase hein!')\n",
    "else:\n",
    "    print('Reprovado')"
   ]
  },
  {
   "cell_type": "code",
   "execution_count": 25,
   "id": "6942a961",
   "metadata": {},
   "outputs": [
    {
     "name": "stdout",
     "output_type": "stream",
     "text": [
      "Digite a média: 7\n",
      "Aprovado\n"
     ]
    }
   ],
   "source": [
    "media = float(input('Digite a média: '))\n",
    "\n",
    "if media >= 7:\n",
    "    print('Aprovado')\n",
    "elif media >= 5:\n",
    "    print('Recuperação')\n",
    "elif media >= 4.5:\n",
    "    print('Quase hein!')\n",
    "elif media == 10:\n",
    "    print('Parabéns')\n",
    "else:\n",
    "    print('Reprovado')"
   ]
  },
  {
   "attachments": {},
   "cell_type": "markdown",
   "id": "960d1d42",
   "metadata": {},
   "source": [
    "```![image.png](figura.png)```\n",
    "![image.png](figura.png)"
   ]
  },
  {
   "cell_type": "markdown",
   "id": "4a72c47c",
   "metadata": {},
   "source": [
    "Olha só o que acontece:"
   ]
  },
  {
   "cell_type": "code",
   "execution_count": 33,
   "id": "2b7d905d",
   "metadata": {},
   "outputs": [
    {
     "name": "stdout",
     "output_type": "stream",
     "text": [
      "Digite \"sim\" se aceita os termod de uso: Sim\n",
      "Seja bem vindo!!\n"
     ]
    }
   ],
   "source": [
    "usuario = input('Digite \"sim\" se aceita os termod de uso: ')\n",
    "if usuario == 'sim' or usuario == 'SIM' or usuario == 'Sim' or usuario == 'SIm':\n",
    "    print('Seja bem vindo!!')\n",
    "else:\n",
    "    print('Que pena')"
   ]
  },
  {
   "cell_type": "markdown",
   "id": "73294fd6",
   "metadata": {},
   "source": [
    "## Saiba mais \n",
    "**Funções de strings (só uma introdução para facilitar em alguns exercícios)**\n",
    "\n",
    "Temos algumas funções prontas para alterar a capitalização das letras. Uma delas é a função upper, que transforma todas as letras da string original em maiúsculas:"
   ]
  },
  {
   "cell_type": "code",
   "execution_count": 35,
   "id": "e5235a2d",
   "metadata": {},
   "outputs": [
    {
     "name": "stdout",
     "output_type": "stream",
     "text": [
      "VAMOS PROGRAMAR\n"
     ]
    }
   ],
   "source": [
    "frase = 'vAmOs PrOgRaMaR'\n",
    "\n",
    "maiuscula = frase.upper()\n",
    "print(maiuscula)"
   ]
  },
  {
   "cell_type": "markdown",
   "id": "72407513",
   "metadata": {},
   "source": [
    "Analogamente, temos a função lower para transformar todas as letras em minúsculas:"
   ]
  },
  {
   "cell_type": "code",
   "execution_count": 36,
   "id": "d3687c58",
   "metadata": {},
   "outputs": [
    {
     "name": "stdout",
     "output_type": "stream",
     "text": [
      "vamos programar\n"
     ]
    }
   ],
   "source": [
    "frase = 'vAmOs PrOgRaMaR'\n",
    "\n",
    "minuscula = frase.lower()\n",
    "print(minuscula)"
   ]
  },
  {
   "cell_type": "markdown",
   "id": "bc9d7f23",
   "metadata": {},
   "source": [
    "Também é possível formatar a string inteira como um nome próprio: primeira letra de cada palavra maiúscula, todo o restante em minúscula. Para isso temos a função title:"
   ]
  },
  {
   "cell_type": "code",
   "execution_count": 37,
   "id": "27df3393",
   "metadata": {},
   "outputs": [
    {
     "name": "stdout",
     "output_type": "stream",
     "text": [
      "Vamos Programar\n"
     ]
    }
   ],
   "source": [
    "frase = 'vAmOs PrOgRaMaR'\n",
    "\n",
    "titulo = frase.title()\n",
    "print(titulo) # resultado: 'Vamos Programar'"
   ]
  },
  {
   "cell_type": "markdown",
   "id": "b1b15921",
   "metadata": {},
   "source": [
    "E, por fim, é possível tratar nossa string como uma frase gramaticalmente correta: primeira letra maiúscula, todo o resto minúsculo. Essa função é a capitalize:"
   ]
  },
  {
   "cell_type": "code",
   "execution_count": 38,
   "id": "ae3fffdb",
   "metadata": {},
   "outputs": [
    {
     "name": "stdout",
     "output_type": "stream",
     "text": [
      "Vamos programar\n"
     ]
    }
   ],
   "source": [
    "frase = 'vAmOs PrOgRaMaR'\n",
    "\n",
    "correta = frase.capitalize()\n",
    "print(correta) # resultado: 'Vamos programar'"
   ]
  },
  {
   "cell_type": "markdown",
   "id": "38b1a9ae",
   "metadata": {},
   "source": [
    "Uma utilidade para essas funções é padronizar entrada de usuário. Quando pedimos para o usuário digitar 'sim' caso ele deseje fazer algo, ele pode digitar 'SIM', 'sim', 'Sim', 'sIm', 'siM', 'SIm', 'sIM' ou 'SiM'. Prever todas essas condições em uma condicional pode ser bastante trabalhoso, ou mesmo impossível. Imagine se fosse uma string de várias letras... Porém, podemos forçar um padrão para a entrada do usuário e comparar com esse padrão:"
   ]
  },
  {
   "cell_type": "code",
   "execution_count": 41,
   "id": "8d5e8c09",
   "metadata": {},
   "outputs": [
    {
     "name": "stdout",
     "output_type": "stream",
     "text": [
      "Digite \"sim\" se aceita os termod de uso: sim\n",
      "Seja bem vindo!!\n"
     ]
    }
   ],
   "source": [
    "usuario = input('Digite \"sim\" se aceita os termod de uso: ')\n",
    "if usuario.upper() == 'SIM':\n",
    "    print('Seja bem vindo!!')\n",
    "else:\n",
    "    print('Que pena')"
   ]
  },
  {
   "cell_type": "markdown",
   "id": "1ee00360",
   "metadata": {},
   "source": [
    "Qualquer forma que o usuário digite a palavra 'sim' será aceita.\n",
    "\n",
    "Se quiser confirmar se dentro de uma string qo valor é um número, usamos o .isdigit(). Assim como tem o .isalpha()."
   ]
  },
  {
   "cell_type": "code",
   "execution_count": 44,
   "id": "a4b6b72c",
   "metadata": {},
   "outputs": [
    {
     "data": {
      "text/plain": [
       "True"
      ]
     },
     "execution_count": 44,
     "metadata": {},
     "output_type": "execute_result"
    }
   ],
   "source": [
    "valor = '5'\n",
    "\n",
    "valor.isdigit()"
   ]
  },
  {
   "cell_type": "code",
   "execution_count": 45,
   "id": "01e1481b",
   "metadata": {},
   "outputs": [
    {
     "data": {
      "text/plain": [
       "False"
      ]
     },
     "execution_count": 45,
     "metadata": {},
     "output_type": "execute_result"
    }
   ],
   "source": [
    "valor = '5'\n",
    "\n",
    "valor.isalpha()"
   ]
  },
  {
   "cell_type": "markdown",
   "id": "4ff95eec",
   "metadata": {},
   "source": [
    "Extra: O que será que acontece quando usamos o operador + com duas strings?"
   ]
  },
  {
   "cell_type": "code",
   "execution_count": 46,
   "id": "ac10f723",
   "metadata": {},
   "outputs": [
    {
     "data": {
      "text/plain": [
       "2"
      ]
     },
     "execution_count": 46,
     "metadata": {},
     "output_type": "execute_result"
    }
   ],
   "source": [
    "1 + 1 # somar"
   ]
  },
  {
   "cell_type": "code",
   "execution_count": 47,
   "id": "f971de34",
   "metadata": {},
   "outputs": [
    {
     "data": {
      "text/plain": [
       "'AB'"
      ]
     },
     "execution_count": 47,
     "metadata": {},
     "output_type": "execute_result"
    }
   ],
   "source": [
    "\"A\" + \"B\" # concatenar "
   ]
  },
  {
   "cell_type": "markdown",
   "id": "c5f38d66",
   "metadata": {},
   "source": [
    "**Bora praticar**\n",
    "\n",
    "1) Faça um programa que peça a idade do usuário e imprima se ele é maior ou menor de 18 anos.\n",
    "\n",
    "2) Faça um programa que peça um número e mostre se ele é positivo ou negativo. Alternativa: acrescentar nulo\n",
    "\n",
    "3) Faça um programa que peça dois números e mostre o maior deles.\n",
    "\n",
    "4) Faça um programa que leia a validade das informações:\n",
    "\n",
    "a. Idade: entre 0 e 150;\n",
    "\n",
    "b. Salário: maior que 0;\n",
    "\n",
    "c. Sexo: M, F ou Outro;\n",
    "\n",
    "O programa deve imprimir uma mensagem de erro para cada informação inválida.\n",
    "\n",
    "5) Escreva um programa que peça a nota de 3 provas de um aluno e verifique se ele passou ou não de ano.\n",
    "Obs.: O aluno irá passar de ano se sua média for maior que 6.\n",
    "\n",
    "6) Faça um programa que mostre uma questão de múltipla escolha com 5 opções (letras a, b, c, d, e). \n",
    "Sabendo a resposta certa, o programa deve receber a opção do usuário e informar a letra que o usuário marcou e se a resposta está certa ou errada.\n",
    "\n",
    "7)\n",
    "Vamos fazer um programa para verificar quem é o assassino de um crime. Para descobrir o assassino, \n",
    "a polícia faz um pequeno questionário com 5 perguntas \n",
    "onde a resposta só pode ser sim ou não:\n",
    "\n",
    "a. Mora perto da vítima?\n",
    "\n",
    "b. Já trabalhou com a vítima?\n",
    "\n",
    "c. Telefonou para a vítima?\n",
    "\n",
    "d. Esteve no local do crime?\n",
    "\n",
    "e. Devia para a vítima?\n",
    "\n",
    "Cada resposta sim dá um ponto para o suspeito. A polícia considera que os suspeitos com 5 pontos são os assassinos, com 4 a 3 pontos \n",
    "são cúmplices e 2 pontos são apenas suspeitos, necessitando outras investigações. Valores iguais ou abaixo de 1 são liberados.'''\n",
    "\n",
    "8) Um produto vai sofrer aumento de acordo com a Tabela 1 abaixo. Faça um programa que peça para o usuário digitar o valor do produto de acordo \n",
    "com o preço antigo e escreva uma das mensagens da Tabela 2, de acordo com o preço reajustado:\n",
    "\n",
    "Tabela 1\n",
    "\n",
    "| Preço Antigo         | % de aumento |\n",
    "|----------------------|--------------|\n",
    "| Até 50 reais         | 5%           |\n",
    "| Entre 50 e 100 reais | 10%          |\n",
    "| De 100 a 150 reais   | 13%          |\n",
    "| Acima de 150 reais   | 15%          |\n",
    "\n",
    "Tabela 2\n",
    "\n",
    "| Preço Novo            | Mensagem   |\n",
    "|-----------------------|------------|\n",
    "| Até 80 reais          | Barato     |\n",
    "| Entre 80 e 115 reais  | Razoável   |\n",
    "| Entre 115 e 150 reais | Normal     |\n",
    "| Entre 150 e 170 reais | Caro       |\n",
    "| Acima de 170 reais    | Muito Caro |\n",
    "\n",
    "9) Desafio 1 - Faça um programa que leia 3 números e informe o maior deles.\n",
    "\n",
    "# Resolução dos exercícios\n",
    "Lembrando que não há uma única forma de resolver\n"
   ]
  },
  {
   "cell_type": "code",
   "execution_count": null,
   "id": "5377dae0",
   "metadata": {},
   "outputs": [],
   "source": []
  }
 ],
 "metadata": {
  "kernelspec": {
   "display_name": "Python 3 (ipykernel)",
   "language": "python",
   "name": "python3"
  },
  "language_info": {
   "codemirror_mode": {
    "name": "ipython",
    "version": 3
   },
   "file_extension": ".py",
   "mimetype": "text/x-python",
   "name": "python",
   "nbconvert_exporter": "python",
   "pygments_lexer": "ipython3",
   "version": "3.12.0"
  }
 },
 "nbformat": 4,
 "nbformat_minor": 5
}
