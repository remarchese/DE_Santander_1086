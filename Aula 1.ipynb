{
 "cells": [
  {
   "cell_type": "markdown",
   "id": "13acd9f1",
   "metadata": {},
   "source": [
    "<div style=\"background-color: lightgreen; padding: 18px;\">\n",
    "    <h1> Coding Tank | Santander\n",
    "</div>"
   ]
  },
  {
   "cell_type": "markdown",
   "id": "19864968",
   "metadata": {},
   "source": [
    "Renata Martins Marchese\n",
    "\n",
    "renata.marchese@ada.tech\n"
   ]
  },
  {
   "cell_type": "markdown",
   "id": "dfdc8a37",
   "metadata": {},
   "source": [
    "<div style=\"background-color: lightblue; padding: 10px;\">\n",
    "    <h2> Informações - Introdução\n",
    "</div>"
   ]
  },
  {
   "cell_type": "markdown",
   "id": "64c88411",
   "metadata": {},
   "source": [
    "Alguns recados importantes\n",
    "\n",
    "- Horários (início 19h e intervalo de 10 minutos às  20h30)\n",
    "- Presença\n",
    "- Câmera / participação\n",
    "- Processo seletivo\n",
    "- Cronograma de aulas\n",
    "\n",
    "Pode usar qualquer IDE do jupyter notebook ou jupyter lab\n",
    "- Visual Studio Code - Extensão Jupyter\n",
    "- Colab google - https://colab.research.google.com/\n",
    "- Deep note - https://deepnote.com/\n",
    "- JupyterLite - https://jupyter.org/try\n",
    "- Diversas outras opções. Sem acompanhar a aula, o aluno não ficará\n",
    "\n",
    "Os alunos **já** fizeram um curso de python e **terão** no primeiro módulo do curso.\n",
    "O Coding Tank é um processo seletivo que aprovará aqueles que estão engajados e que evoluem durante o processo. Não necessariamente o aluno que já sabe python irá passar pois a intenção é nivelar os alunos e medir o engajamento.\n",
    "Dito isso, pedimos que **não** avance em certos tópicos como funções para termos uma classificação justa. \n",
    "\n",
    "Outro ponto é tentar avaliar o que o aluno está desenvolvendo e não usando modelos de linguagem como ChatGPT|Bard\n",
    "\n",
    "É um processo seletivo! \n",
    "\n",
    "<div style=\"background-color: lightblue; padding: 10px;\">\n",
    "    <h2> AULAS\n",
    "</div>\n",
    "\n",
    "\n",
    "- Aula 1\n",
    "Variáveis, entrada, saída e operadores\n",
    "\n",
    "- Aula 2\n",
    "Termninar conteúdo da aula anterior. Condicionais com if/elif/else. Introduzir alguns métodos de string para facilitar nos exercícios\n",
    "\n",
    "- Aula 3\n",
    "Estrutura de repetição while.\n",
    "\n",
    "- Aula 4\n",
    "For, listas e funções de listas\n",
    "\n",
    "- Aula 5\n",
    "Prova\n",
    "\n",
    "https://lms.ada.tech/\n",
    "\n",
    "  \n",
    "    \n",
    " \n",
    "<div style=\"background-color: lightblue; padding: 10px;\">\n",
    "    <h2> BORA COMEÇAR?\n",
    "</div>"
   ]
  },
  {
   "cell_type": "markdown",
   "id": "94a0e951",
   "metadata": {},
   "source": [
    " "
   ]
  },
  {
   "cell_type": "markdown",
   "id": "f628a079",
   "metadata": {},
   "source": [
    "<div style=\"background-color: lightblue; padding: 10px;\">\n",
    "    <h2> Tópicos da aula - AULA 1\n",
    "</div>\n",
    "\n",
    "- Variáveis\n",
    "- Tipos básicos\n",
    "- Entradas/Saídas\n",
    "- Operadores aritméticos, atribuição e comparação"
   ]
  },
  {
   "cell_type": "markdown",
   "id": "06228dc3",
   "metadata": {},
   "source": [
    "**Introdução**\n",
    "\n",
    "Vamos explorar como o jupyter notebook funciona, botões, comandos e tipos de célula"
   ]
  },
  {
   "cell_type": "code",
   "execution_count": 1,
   "id": "aded39bd",
   "metadata": {
    "scrolled": true
   },
   "outputs": [
    {
     "data": {
      "text/plain": [
       "1"
      ]
     },
     "execution_count": 1,
     "metadata": {},
     "output_type": "execute_result"
    }
   ],
   "source": [
    "1"
   ]
  },
  {
   "cell_type": "markdown",
   "id": "ad45decd",
   "metadata": {},
   "source": [
    "2"
   ]
  },
  {
   "cell_type": "code",
   "execution_count": 2,
   "id": "1e902f05",
   "metadata": {},
   "outputs": [
    {
     "data": {
      "text/plain": [
       "7"
      ]
     },
     "execution_count": 2,
     "metadata": {},
     "output_type": "execute_result"
    }
   ],
   "source": [
    "3 + 4"
   ]
  },
  {
   "cell_type": "code",
   "execution_count": 3,
   "id": "5747fe12",
   "metadata": {},
   "outputs": [
    {
     "data": {
      "text/plain": [
       "2"
      ]
     },
     "execution_count": 3,
     "metadata": {},
     "output_type": "execute_result"
    }
   ],
   "source": [
    "5 - 3"
   ]
  },
  {
   "cell_type": "markdown",
   "id": "f951a005",
   "metadata": {},
   "source": [
    "https://peps.python.org/pep-0008/ -> PEP 8 – Style Guide for Python Code"
   ]
  },
  {
   "cell_type": "code",
   "execution_count": 4,
   "id": "33ac6109",
   "metadata": {},
   "outputs": [
    {
     "data": {
      "text/plain": [
       "10"
      ]
     },
     "execution_count": 4,
     "metadata": {},
     "output_type": "execute_result"
    }
   ],
   "source": [
    "2 * 5"
   ]
  },
  {
   "cell_type": "code",
   "execution_count": 5,
   "id": "15e3b947",
   "metadata": {},
   "outputs": [
    {
     "data": {
      "text/plain": [
       "7.5"
      ]
     },
     "execution_count": 5,
     "metadata": {},
     "output_type": "execute_result"
    }
   ],
   "source": [
    "15 / 2"
   ]
  },
  {
   "cell_type": "code",
   "execution_count": 6,
   "id": "41b93ba4",
   "metadata": {},
   "outputs": [
    {
     "data": {
      "text/plain": [
       "7"
      ]
     },
     "execution_count": 6,
     "metadata": {},
     "output_type": "execute_result"
    }
   ],
   "source": [
    "15 // 2"
   ]
  },
  {
   "cell_type": "code",
   "execution_count": 7,
   "id": "f92d0a62",
   "metadata": {},
   "outputs": [
    {
     "data": {
      "text/plain": [
       "1"
      ]
     },
     "execution_count": 7,
     "metadata": {},
     "output_type": "execute_result"
    }
   ],
   "source": [
    "15 % 2"
   ]
  },
  {
   "cell_type": "code",
   "execution_count": 8,
   "id": "8eea333e",
   "metadata": {},
   "outputs": [
    {
     "data": {
      "text/plain": [
       "225"
      ]
     },
     "execution_count": 8,
     "metadata": {},
     "output_type": "execute_result"
    }
   ],
   "source": [
    "15 ** 2"
   ]
  },
  {
   "cell_type": "markdown",
   "id": "2c33385d",
   "metadata": {},
   "source": [
    "**Operadores Aritméticos**\n",
    "\n",
    "|     Operador    |     Nome                 |     Função                                                                       |\n",
    "|-----------------|--------------------------|----------------------------------------------------------------------------------|\n",
    "|     +           |     Adição               |     Realiza   a soma de ambos operandos.                                         |\n",
    "|     -           |     Subtração            |     Realiza   a subtração de ambos operandos.                                    |\n",
    "|     *           |     Multiplicação        |     Realiza   a multiplicação de ambos operandos.                                |\n",
    "|     /           |     Divisão              |     Realiza   a Divisão de ambos operandos.                                      |\n",
    "|     //          |     Divisão   inteira    |     Realiza   a divisão entre operandos e a parte decimal de ambos operandos.    |\n",
    "|     %           |     Módulo               |     Retorna   o resto da divisão de ambos operandos.                             |\n",
    "|     **          |     Exponenciação        |     Retorna   o resultado da elevação da potência pelo outro.                    |"
   ]
  },
  {
   "cell_type": "markdown",
   "id": "7fc7d31a",
   "metadata": {},
   "source": [
    "Mas como podemos armazenar esses valores?"
   ]
  },
  {
   "cell_type": "markdown",
   "id": "b6356722",
   "metadata": {},
   "source": [
    "# Variáveis\n",
    "\n",
    "Variável é o nome dado ao tipo de conteúdo que pode apresentar diferentes valores enquanto o sistema está em execução. Tudo dependerá do comando do usuário e o tipo de operação que é realizado.\n",
    "\n",
    "Imagine que você conhece uma nova pessoa. A variável seria o lugar no seu cérebro no qual você guarda, por exemplo, o nome desta pessoa, ou seja, é alocado um espaço para armazenar esta informação e posteriormente é passado o valor referente aquele dado.\n",
    "\n",
    "`nome = \"Renata\"`\n",
    "\n",
    "## Tipos básicos\n",
    "\n",
    "Podemos ter informações relacionadas às outras pessoas como nome, idade e salário. Cada uma delas possui o que chamamos de tipos de variável. Os tipos de dados são os seguintes:"
   ]
  },
  {
   "cell_type": "code",
   "execution_count": 11,
   "id": "bfc2002d",
   "metadata": {},
   "outputs": [
    {
     "data": {
      "text/plain": [
       "str"
      ]
     },
     "execution_count": 11,
     "metadata": {},
     "output_type": "execute_result"
    }
   ],
   "source": [
    "# Esta é uma forma de comentar o código. Toda esta informação não será processada\n",
    "# Podemos passar variáveis de texto (str) com aspas duplas\n",
    "\n",
    "nome = \"Renata\" # Comentário\n",
    "\n",
    "type(nome)"
   ]
  },
  {
   "cell_type": "code",
   "execution_count": 13,
   "id": "dfdaa3b4",
   "metadata": {},
   "outputs": [
    {
     "data": {
      "text/plain": [
       "str"
      ]
     },
     "execution_count": 13,
     "metadata": {},
     "output_type": "execute_result"
    }
   ],
   "source": [
    "# Também podemos usar aspas simples\n",
    "\n",
    "nome = 'Renata'\n",
    "type(nome)"
   ]
  },
  {
   "cell_type": "code",
   "execution_count": 19,
   "id": "4f4741d1",
   "metadata": {},
   "outputs": [
    {
     "data": {
      "text/plain": [
       "int"
      ]
     },
     "execution_count": 19,
     "metadata": {},
     "output_type": "execute_result"
    }
   ],
   "source": [
    "idade = 21 # atribuindo um número a variável idade\n",
    "\n",
    "type(idade)\n"
   ]
  },
  {
   "cell_type": "code",
   "execution_count": 20,
   "id": "3ccbdf21",
   "metadata": {},
   "outputs": [
    {
     "data": {
      "text/plain": [
       "float"
      ]
     },
     "execution_count": 20,
     "metadata": {},
     "output_type": "execute_result"
    }
   ],
   "source": [
    "idade = 21.\n",
    "type(idade)"
   ]
  },
  {
   "cell_type": "code",
   "execution_count": 23,
   "id": "fcc74653",
   "metadata": {},
   "outputs": [
    {
     "data": {
      "text/plain": [
       "bool"
      ]
     },
     "execution_count": 23,
     "metadata": {},
     "output_type": "execute_result"
    }
   ],
   "source": [
    "certificado = True # True é diferente de true, que é diferente de TRUE\n",
    "\n",
    "type(certificado)"
   ]
  },
  {
   "cell_type": "code",
   "execution_count": 24,
   "id": "a5822423",
   "metadata": {},
   "outputs": [
    {
     "ename": "NameError",
     "evalue": "name 'false' is not defined",
     "output_type": "error",
     "traceback": [
      "\u001b[1;31m---------------------------------------------------------------------------\u001b[0m",
      "\u001b[1;31mNameError\u001b[0m                                 Traceback (most recent call last)",
      "Cell \u001b[1;32mIn[24], line 1\u001b[0m\n\u001b[1;32m----> 1\u001b[0m var \u001b[38;5;241m=\u001b[39m \u001b[43mfalse\u001b[49m \n",
      "\u001b[1;31mNameError\u001b[0m: name 'false' is not defined"
     ]
    }
   ],
   "source": [
    "var = false # false é variável e não booleano --> Case sensitive"
   ]
  },
  {
   "cell_type": "markdown",
   "id": "612252f8",
   "metadata": {},
   "source": [
    "PALAVRAS RESERVADAS\n",
    "\n",
    "- and       - del       - from       - not        - while    \n",
    "- as        - elif      - global     - or         - with     \n",
    "- assert    - else      - if         - pass       - yield    \n",
    "- break     - except    - import     - print                \n",
    "- class     - exec      - in         - raise                \n",
    "- continue  - finally   - is         - return               \n",
    "- def       - for       - lambda     - try\n",
    "\n",
    "https://docs.python.org/2.5/ref/keywords.html"
   ]
  },
  {
   "cell_type": "markdown",
   "id": "703b546c",
   "metadata": {},
   "source": [
    "# Entradas"
   ]
  },
  {
   "cell_type": "code",
   "execution_count": null,
   "id": "aa894936",
   "metadata": {},
   "outputs": [],
   "source": []
  }
 ],
 "metadata": {
  "kernelspec": {
   "display_name": "Python 3 (ipykernel)",
   "language": "python",
   "name": "python3"
  },
  "language_info": {
   "codemirror_mode": {
    "name": "ipython",
    "version": 3
   },
   "file_extension": ".py",
   "mimetype": "text/x-python",
   "name": "python",
   "nbconvert_exporter": "python",
   "pygments_lexer": "ipython3",
   "version": "3.12.0"
  }
 },
 "nbformat": 4,
 "nbformat_minor": 5
}
