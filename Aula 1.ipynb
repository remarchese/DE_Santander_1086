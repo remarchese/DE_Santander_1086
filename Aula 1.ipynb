{
 "cells": [
  {
   "cell_type": "markdown",
   "id": "13acd9f1",
   "metadata": {},
   "source": [
    "<div style=\"background-color: lightgreen; padding: 18px;\">\n",
    "    <h1> Coding Tank | Santander\n",
    "</div>"
   ]
  },
  {
   "cell_type": "markdown",
   "id": "19864968",
   "metadata": {},
   "source": [
    "Renata Martins Marchese\n",
    "\n",
    "renata.marchese@ada.tech\n"
   ]
  },
  {
   "cell_type": "markdown",
   "id": "dfdc8a37",
   "metadata": {},
   "source": [
    "<div style=\"background-color: lightblue; padding: 10px;\">\n",
    "    <h2> Informações - Introdução\n",
    "</div>"
   ]
  },
  {
   "cell_type": "markdown",
   "id": "64c88411",
   "metadata": {},
   "source": [
    "Alguns recados importantes\n",
    "\n",
    "- Horários (início 19h e intervalo de 10 minutos às  20h30)\n",
    "- Presença\n",
    "- Câmera / participação\n",
    "- Processo seletivo\n",
    "- Cronograma de aulas\n",
    "\n",
    "Pode usar qualquer IDE do jupyter notebook ou jupyter lab\n",
    "- Visual Studio Code - Extensão Jupyter\n",
    "- Colab google - https://colab.research.google.com/\n",
    "- Deep note - https://deepnote.com/\n",
    "- JupyterLite - https://jupyter.org/try\n",
    "- Diversas outras opções. Sem acompanhar a aula, o aluno não ficará\n",
    "\n",
    "Os alunos **já** fizeram um curso de python e **terão** no primeiro módulo do curso.\n",
    "O Coding Tank é um processo seletivo que aprovará aqueles que estão engajados e que evoluem durante o processo. Não necessariamente o aluno que já sabe python irá passar pois a intenção é nivelar os alunos e medir o engajamento.\n",
    "Dito isso, pedimos que **não** avance em certos tópicos como funções para termos uma classificação justa. \n",
    "\n",
    "Outro ponto é tentar avaliar o que o aluno está desenvolvendo e não usando modelos de linguagem como ChatGPT|Bard\n",
    "\n",
    "É um processo seletivo! \n",
    "\n",
    "<div style=\"background-color: lightblue; padding: 10px;\">\n",
    "    <h2> AULAS\n",
    "</div>\n",
    "\n",
    "\n",
    "- Aula 1\n",
    "Variáveis, entrada, saída e operadores\n",
    "\n",
    "- Aula 2\n",
    "Termninar conteúdo da aula anterior. Condicionais com if/elif/else. Introduzir alguns métodos de string para facilitar nos exercícios\n",
    "\n",
    "- Aula 3\n",
    "Estrutura de repetição while.\n",
    "\n",
    "- Aula 4\n",
    "For, listas e funções de listas\n",
    "\n",
    "- Aula 5\n",
    "Prova\n",
    "\n",
    "https://lms.ada.tech/\n",
    "\n",
    "  \n",
    "    \n",
    " \n",
    "<div style=\"background-color: lightblue; padding: 10px;\">\n",
    "    <h2> BORA COMEÇAR?\n",
    "</div>"
   ]
  },
  {
   "cell_type": "markdown",
   "id": "94a0e951",
   "metadata": {},
   "source": [
    " "
   ]
  },
  {
   "cell_type": "markdown",
   "id": "f628a079",
   "metadata": {},
   "source": [
    "<div style=\"background-color: lightblue; padding: 10px;\">\n",
    "    <h2> Tópicos da aula - AULA 1\n",
    "</div>\n",
    "\n",
    "- Variáveis\n",
    "- Tipos básicos\n",
    "- Entradas/Saídas\n",
    "- Operadores aritméticos, atribuição e comparação"
   ]
  },
  {
   "cell_type": "markdown",
   "id": "06228dc3",
   "metadata": {},
   "source": [
    "**Introdução**\n",
    "\n",
    "Vamos explorar como o jupyter notebook funciona, botões, comandos e tipos de célula"
   ]
  },
  {
   "cell_type": "code",
   "execution_count": 1,
   "id": "aded39bd",
   "metadata": {
    "scrolled": true
   },
   "outputs": [
    {
     "data": {
      "text/plain": [
       "1"
      ]
     },
     "execution_count": 1,
     "metadata": {},
     "output_type": "execute_result"
    }
   ],
   "source": [
    "1"
   ]
  },
  {
   "cell_type": "markdown",
   "id": "ad45decd",
   "metadata": {},
   "source": [
    "2"
   ]
  },
  {
   "cell_type": "code",
   "execution_count": 2,
   "id": "1e902f05",
   "metadata": {},
   "outputs": [
    {
     "data": {
      "text/plain": [
       "7"
      ]
     },
     "execution_count": 2,
     "metadata": {},
     "output_type": "execute_result"
    }
   ],
   "source": [
    "3 + 4"
   ]
  },
  {
   "cell_type": "code",
   "execution_count": 3,
   "id": "5747fe12",
   "metadata": {},
   "outputs": [
    {
     "data": {
      "text/plain": [
       "2"
      ]
     },
     "execution_count": 3,
     "metadata": {},
     "output_type": "execute_result"
    }
   ],
   "source": [
    "5 - 3"
   ]
  },
  {
   "cell_type": "markdown",
   "id": "f951a005",
   "metadata": {},
   "source": [
    "https://peps.python.org/pep-0008/ -> PEP 8 – Style Guide for Python Code"
   ]
  },
  {
   "cell_type": "code",
   "execution_count": 4,
   "id": "33ac6109",
   "metadata": {},
   "outputs": [
    {
     "data": {
      "text/plain": [
       "10"
      ]
     },
     "execution_count": 4,
     "metadata": {},
     "output_type": "execute_result"
    }
   ],
   "source": [
    "2 * 5"
   ]
  },
  {
   "cell_type": "code",
   "execution_count": 5,
   "id": "15e3b947",
   "metadata": {},
   "outputs": [
    {
     "data": {
      "text/plain": [
       "7.5"
      ]
     },
     "execution_count": 5,
     "metadata": {},
     "output_type": "execute_result"
    }
   ],
   "source": [
    "15 / 2"
   ]
  },
  {
   "cell_type": "code",
   "execution_count": 6,
   "id": "41b93ba4",
   "metadata": {},
   "outputs": [
    {
     "data": {
      "text/plain": [
       "7"
      ]
     },
     "execution_count": 6,
     "metadata": {},
     "output_type": "execute_result"
    }
   ],
   "source": [
    "15 // 2"
   ]
  },
  {
   "cell_type": "code",
   "execution_count": 7,
   "id": "f92d0a62",
   "metadata": {},
   "outputs": [
    {
     "data": {
      "text/plain": [
       "1"
      ]
     },
     "execution_count": 7,
     "metadata": {},
     "output_type": "execute_result"
    }
   ],
   "source": [
    "15 % 2"
   ]
  },
  {
   "cell_type": "code",
   "execution_count": 8,
   "id": "8eea333e",
   "metadata": {},
   "outputs": [
    {
     "data": {
      "text/plain": [
       "225"
      ]
     },
     "execution_count": 8,
     "metadata": {},
     "output_type": "execute_result"
    }
   ],
   "source": [
    "15 ** 2"
   ]
  },
  {
   "cell_type": "markdown",
   "id": "2c33385d",
   "metadata": {},
   "source": [
    "**Operadores Aritméticos**\n",
    "\n",
    "|     Operador    |     Nome                 |     Função                                                                       |\n",
    "|-----------------|--------------------------|----------------------------------------------------------------------------------|\n",
    "|     +           |     Adição               |     Realiza   a soma de ambos operandos.                                         |\n",
    "|     -           |     Subtração            |     Realiza   a subtração de ambos operandos.                                    |\n",
    "|     *           |     Multiplicação        |     Realiza   a multiplicação de ambos operandos.                                |\n",
    "|     /           |     Divisão              |     Realiza   a Divisão de ambos operandos.                                      |\n",
    "|     //          |     Divisão   inteira    |     Realiza   a divisão entre operandos e a parte decimal de ambos operandos.    |\n",
    "|     %           |     Módulo               |     Retorna   o resto da divisão de ambos operandos.                             |\n",
    "|     **          |     Exponenciação        |     Retorna   o resultado da elevação da potência pelo outro.                    |"
   ]
  },
  {
   "cell_type": "markdown",
   "id": "7fc7d31a",
   "metadata": {},
   "source": [
    "Mas como podemos armazenar esses valores?"
   ]
  },
  {
   "cell_type": "markdown",
   "id": "b6356722",
   "metadata": {},
   "source": [
    "# Variáveis\n",
    "\n",
    "Variável é o nome dado ao tipo de conteúdo que pode apresentar diferentes valores enquanto o sistema está em execução. Tudo dependerá do comando do usuário e o tipo de operação que é realizado.\n",
    "\n",
    "Imagine que você conhece uma nova pessoa. A variável seria o lugar no seu cérebro no qual você guarda, por exemplo, o nome desta pessoa, ou seja, é alocado um espaço para armazenar esta informação e posteriormente é passado o valor referente aquele dado.\n",
    "\n",
    "`nome = \"Renata\"`\n",
    "\n",
    "## Tipos básicos\n",
    "\n",
    "Podemos ter informações relacionadas às outras pessoas como nome, idade e salário. Cada uma delas possui o que chamamos de tipos de variável. Os tipos de dados são os seguintes:"
   ]
  },
  {
   "cell_type": "code",
   "execution_count": 22,
   "id": "bfc2002d",
   "metadata": {},
   "outputs": [
    {
     "data": {
      "text/plain": [
       "str"
      ]
     },
     "execution_count": 22,
     "metadata": {},
     "output_type": "execute_result"
    }
   ],
   "source": [
    "\n",
    "# Esta é uma forma de comentar o código. Toda esta informação não será processada\n",
    "# Podemos passar variáveis de texto (str) com aspas duplas\n",
    "\n",
    "nome = \"Renata\" # Comentário\n",
    "\n",
    "type(nome)\n"
   ]
  },
  {
   "cell_type": "code",
   "execution_count": 13,
   "id": "dfdaa3b4",
   "metadata": {},
   "outputs": [
    {
     "data": {
      "text/plain": [
       "str"
      ]
     },
     "execution_count": 13,
     "metadata": {},
     "output_type": "execute_result"
    }
   ],
   "source": [
    "# Também podemos usar aspas simples\n",
    "\n",
    "nome = 'Renata'\n",
    "type(nome)"
   ]
  },
  {
   "cell_type": "code",
   "execution_count": 19,
   "id": "4f4741d1",
   "metadata": {},
   "outputs": [
    {
     "data": {
      "text/plain": [
       "int"
      ]
     },
     "execution_count": 19,
     "metadata": {},
     "output_type": "execute_result"
    }
   ],
   "source": [
    "idade = 21 # atribuindo um número a variável idade\n",
    "\n",
    "type(idade)\n"
   ]
  },
  {
   "cell_type": "code",
   "execution_count": 20,
   "id": "3ccbdf21",
   "metadata": {},
   "outputs": [
    {
     "data": {
      "text/plain": [
       "float"
      ]
     },
     "execution_count": 20,
     "metadata": {},
     "output_type": "execute_result"
    }
   ],
   "source": [
    "idade = 21.\n",
    "type(idade)"
   ]
  },
  {
   "cell_type": "code",
   "execution_count": 23,
   "id": "fcc74653",
   "metadata": {},
   "outputs": [
    {
     "data": {
      "text/plain": [
       "bool"
      ]
     },
     "execution_count": 23,
     "metadata": {},
     "output_type": "execute_result"
    }
   ],
   "source": [
    "certificado = True # True é diferente de true, que é diferente de TRUE\n",
    "\n",
    "type(certificado)"
   ]
  },
  {
   "cell_type": "code",
   "execution_count": 24,
   "id": "a5822423",
   "metadata": {},
   "outputs": [
    {
     "ename": "NameError",
     "evalue": "name 'false' is not defined",
     "output_type": "error",
     "traceback": [
      "\u001b[1;31m---------------------------------------------------------------------------\u001b[0m",
      "\u001b[1;31mNameError\u001b[0m                                 Traceback (most recent call last)",
      "Cell \u001b[1;32mIn[24], line 1\u001b[0m\n\u001b[1;32m----> 1\u001b[0m var \u001b[38;5;241m=\u001b[39m \u001b[43mfalse\u001b[49m \n",
      "\u001b[1;31mNameError\u001b[0m: name 'false' is not defined"
     ]
    }
   ],
   "source": [
    "var = false # false é variável e não booleano --> Case sensitive"
   ]
  },
  {
   "cell_type": "markdown",
   "id": "612252f8",
   "metadata": {},
   "source": [
    "PALAVRAS RESERVADAS\n",
    "\n",
    "- and       - del       - from       - not        - while    \n",
    "- as        - elif      - global     - or         - with     \n",
    "- assert    - else      - if         - pass       - yield    \n",
    "- break     - except    - import     - print                \n",
    "- class     - exec      - in         - raise                \n",
    "- continue  - finally   - is         - return               \n",
    "- def       - for       - lambda     - try\n",
    "\n",
    "https://docs.python.org/2.5/ref/keywords.html"
   ]
  },
  {
   "cell_type": "markdown",
   "id": "703b546c",
   "metadata": {},
   "source": [
    "# Entradas\n",
    "\n",
    "Para solicitarmos entradas de informações a serem fornecidas pelo usuário podemos utilizar a função input. Com ela você poderá (opcional) passar uma mensagem instrutiva ao usuário do que deseja que ele insira.  \n",
    "No exemplo abaixo utilizaremos o input."
   ]
  },
  {
   "cell_type": "code",
   "execution_count": 1,
   "id": "aa894936",
   "metadata": {},
   "outputs": [
    {
     "name": "stdout",
     "output_type": "stream",
     "text": [
      "Oi\n"
     ]
    },
    {
     "data": {
      "text/plain": [
       "'Oi'"
      ]
     },
     "execution_count": 1,
     "metadata": {},
     "output_type": "execute_result"
    }
   ],
   "source": [
    "input()"
   ]
  },
  {
   "cell_type": "markdown",
   "id": "5f52427b",
   "metadata": {},
   "source": [
    "**Intuição**  \n",
    "Veja que ele funciona, porém sem uma mensagem de qual informação é solicitada não é possível identificar o que se deve passar ao programa."
   ]
  },
  {
   "cell_type": "code",
   "execution_count": 2,
   "id": "ec9ea98a",
   "metadata": {},
   "outputs": [
    {
     "name": "stdout",
     "output_type": "stream",
     "text": [
      "Insira sua idade: 21\n"
     ]
    },
    {
     "data": {
      "text/plain": [
       "'21'"
      ]
     },
     "execution_count": 2,
     "metadata": {},
     "output_type": "execute_result"
    }
   ],
   "source": [
    "input('Insira sua idade: ')"
   ]
  },
  {
   "cell_type": "markdown",
   "id": "1bbe07ae",
   "metadata": {},
   "source": [
    "**Variável**  \n",
    "Podemos guardar o valor passado pelo usuário numa variável"
   ]
  },
  {
   "cell_type": "code",
   "execution_count": 3,
   "id": "193bc4ec",
   "metadata": {},
   "outputs": [
    {
     "name": "stdout",
     "output_type": "stream",
     "text": [
      "Insira sua idade: 21\n"
     ]
    }
   ],
   "source": [
    "idade = input('Insira sua idade: ')"
   ]
  },
  {
   "cell_type": "markdown",
   "id": "0d44893a",
   "metadata": {},
   "source": [
    "Repare nas aspas que saem quando utilizamos apenas a função input. Isso quer dizer que este valor capturado pelo programa é uma string, independente do que o usuário insira."
   ]
  },
  {
   "cell_type": "code",
   "execution_count": 4,
   "id": "952e9cf0",
   "metadata": {},
   "outputs": [
    {
     "data": {
      "text/plain": [
       "str"
      ]
     },
     "execution_count": 4,
     "metadata": {},
     "output_type": "execute_result"
    }
   ],
   "source": [
    "type(idade)"
   ]
  },
  {
   "cell_type": "markdown",
   "id": "9fddaa88",
   "metadata": {},
   "source": [
    "**Convertendo o tipo de dado**\n",
    "\n",
    "Neste caso é interessante que a idade seja um número, visto que em geral o utilizamos para realizar contas, por exemplo. Para converter este valor para um inteiro, podemos fazer da seguinte forma:"
   ]
  },
  {
   "cell_type": "code",
   "execution_count": 5,
   "id": "491b9c2d",
   "metadata": {},
   "outputs": [
    {
     "data": {
      "text/plain": [
       "21"
      ]
     },
     "execution_count": 5,
     "metadata": {},
     "output_type": "execute_result"
    }
   ],
   "source": [
    "int(idade)"
   ]
  },
  {
   "cell_type": "code",
   "execution_count": 7,
   "id": "20c00f21",
   "metadata": {},
   "outputs": [
    {
     "data": {
      "text/plain": [
       "21.0"
      ]
     },
     "execution_count": 7,
     "metadata": {},
     "output_type": "execute_result"
    }
   ],
   "source": [
    "float(idade)"
   ]
  },
  {
   "cell_type": "code",
   "execution_count": 8,
   "id": "aa3daa5c",
   "metadata": {},
   "outputs": [
    {
     "data": {
      "text/plain": [
       "'21.0'"
      ]
     },
     "execution_count": 8,
     "metadata": {},
     "output_type": "execute_result"
    }
   ],
   "source": [
    "str(float(idade)) # idade é originalmente string, transformei para float e depois para string novamente"
   ]
  },
  {
   "cell_type": "code",
   "execution_count": 9,
   "id": "d40a992b",
   "metadata": {},
   "outputs": [
    {
     "data": {
      "text/plain": [
       "21"
      ]
     },
     "execution_count": 9,
     "metadata": {},
     "output_type": "execute_result"
    }
   ],
   "source": [
    "int(float(idade))"
   ]
  },
  {
   "cell_type": "code",
   "execution_count": 11,
   "id": "f9c46405",
   "metadata": {},
   "outputs": [
    {
     "ename": "ValueError",
     "evalue": "could not convert string to float: 'Renata'",
     "output_type": "error",
     "traceback": [
      "\u001b[1;31m---------------------------------------------------------------------------\u001b[0m",
      "\u001b[1;31mValueError\u001b[0m                                Traceback (most recent call last)",
      "Cell \u001b[1;32mIn[11], line 1\u001b[0m\n\u001b[1;32m----> 1\u001b[0m \u001b[38;5;28;43mfloat\u001b[39;49m\u001b[43m(\u001b[49m\u001b[38;5;124;43m\"\u001b[39;49m\u001b[38;5;124;43mRenata\u001b[39;49m\u001b[38;5;124;43m\"\u001b[39;49m\u001b[43m)\u001b[49m\n",
      "\u001b[1;31mValueError\u001b[0m: could not convert string to float: 'Renata'"
     ]
    }
   ],
   "source": [
    "float(\"Renata\") # não consigo transformar esse texto em casas decimais (valores flutuantes)"
   ]
  },
  {
   "cell_type": "markdown",
   "id": "bf61629a",
   "metadata": {},
   "source": [
    "https://docs.python.org/3/library/functions.html\n",
    "\n",
    "Funções já implementadas dentro do Python"
   ]
  },
  {
   "cell_type": "code",
   "execution_count": 12,
   "id": "1560b33d",
   "metadata": {},
   "outputs": [
    {
     "data": {
      "text/plain": [
       "123"
      ]
     },
     "execution_count": 12,
     "metadata": {},
     "output_type": "execute_result"
    }
   ],
   "source": [
    "int(\"00123\")"
   ]
  },
  {
   "cell_type": "code",
   "execution_count": 13,
   "id": "85ee6861",
   "metadata": {},
   "outputs": [
    {
     "data": {
      "text/plain": [
       "str"
      ]
     },
     "execution_count": 13,
     "metadata": {},
     "output_type": "execute_result"
    }
   ],
   "source": [
    "type(idade)"
   ]
  },
  {
   "cell_type": "markdown",
   "id": "b6eebbdd",
   "metadata": {},
   "source": [
    "E para simplificar ainda mais é comum que já realizemos a conversão da variável logo na chamada do input."
   ]
  },
  {
   "cell_type": "code",
   "execution_count": 14,
   "id": "35b05a42",
   "metadata": {},
   "outputs": [
    {
     "name": "stdout",
     "output_type": "stream",
     "text": [
      "Insira sua idade: 24\n"
     ]
    }
   ],
   "source": [
    "idade = int(input('Insira sua idade: '))"
   ]
  },
  {
   "cell_type": "code",
   "execution_count": 15,
   "id": "5bd3c761",
   "metadata": {},
   "outputs": [
    {
     "data": {
      "text/plain": [
       "int"
      ]
     },
     "execution_count": 15,
     "metadata": {},
     "output_type": "execute_result"
    }
   ],
   "source": [
    "type(idade)"
   ]
  },
  {
   "cell_type": "markdown",
   "id": "3521e332",
   "metadata": {},
   "source": [
    "## Saídas\n",
    "\n",
    "Em diversas situações desejamos imprimir na tela o resultado de alguma operação que realizamos ou simplesmente emitirmos uma mensagem, para estas situações utilizamos o `print`."
   ]
  },
  {
   "cell_type": "code",
   "execution_count": 16,
   "id": "3fa455ed",
   "metadata": {},
   "outputs": [
    {
     "name": "stdout",
     "output_type": "stream",
     "text": [
      "\n"
     ]
    }
   ],
   "source": [
    "print()"
   ]
  },
  {
   "cell_type": "code",
   "execution_count": 17,
   "id": "12ed1ba9",
   "metadata": {},
   "outputs": [
    {
     "name": "stdout",
     "output_type": "stream",
     "text": [
      "Você pode utilizar o print para imprimir na tela o que você quiser\n"
     ]
    }
   ],
   "source": [
    "print(\"Você pode utilizar o print para imprimir na tela o que você quiser\")"
   ]
  },
  {
   "cell_type": "code",
   "execution_count": 20,
   "id": "dac04b7f",
   "metadata": {},
   "outputs": [
    {
     "name": "stdout",
     "output_type": "stream",
     "text": [
      "As aspas simples também funcionam\n"
     ]
    }
   ],
   "source": [
    "print('As aspas simples também funcionam') # comentário no código, ele não executa o que está na frente do #"
   ]
  },
  {
   "cell_type": "code",
   "execution_count": 21,
   "id": "56995b8e",
   "metadata": {},
   "outputs": [
    {
     "name": "stdout",
     "output_type": "stream",
     "text": [
      "Teste\n"
     ]
    }
   ],
   "source": [
    "print(\"Teste\") # uso para comentar uma linha de código\n",
    "\n",
    "# Para comentar mais linhas \"\"\"3x aspas\"\"\""
   ]
  },
  {
   "cell_type": "code",
   "execution_count": 28,
   "id": "cb39ded6",
   "metadata": {},
   "outputs": [
    {
     "name": "stdout",
     "output_type": "stream",
     "text": [
      "Podemos pular linha \n",
      "com este símbolo\n"
     ]
    }
   ],
   "source": [
    "print('Podemos pular linha \\ncom este símbolo') # \\n Dúvida aluna: colocar \\\\ para não executar"
   ]
  },
  {
   "cell_type": "code",
   "execution_count": 25,
   "id": "27f32a33",
   "metadata": {},
   "outputs": [
    {
     "name": "stdout",
     "output_type": "stream",
     "text": [
      "\tÉ possível utilizar a tabulação\n"
     ]
    }
   ],
   "source": [
    "print(\"\\tÉ possível utilizar a tabulação\")"
   ]
  },
  {
   "cell_type": "code",
   "execution_count": null,
   "id": "386470f5",
   "metadata": {},
   "outputs": [],
   "source": [
    "print('Também podemos')\n",
    "print(\"usar o print\")\n",
    "print(\"várias vezes na mesma célula\")"
   ]
  },
  {
   "cell_type": "code",
   "execution_count": 29,
   "id": "8f515116",
   "metadata": {},
   "outputs": [
    {
     "ename": "SyntaxError",
     "evalue": "unterminated string literal (detected at line 1) (4212653290.py, line 1)",
     "output_type": "error",
     "traceback": [
      "\u001b[1;36m  Cell \u001b[1;32mIn[29], line 1\u001b[1;36m\u001b[0m\n\u001b[1;33m    print(\"erro')\u001b[0m\n\u001b[1;37m          ^\u001b[0m\n\u001b[1;31mSyntaxError\u001b[0m\u001b[1;31m:\u001b[0m unterminated string literal (detected at line 1)\n"
     ]
    }
   ],
   "source": [
    "print(\"erro')"
   ]
  },
  {
   "cell_type": "code",
   "execution_count": 30,
   "id": "a92768a3",
   "metadata": {},
   "outputs": [
    {
     "data": {
      "text/plain": [
       "'Texto'"
      ]
     },
     "execution_count": 30,
     "metadata": {},
     "output_type": "execute_result"
    }
   ],
   "source": [
    "# Observação\n",
    "\"Texto\" # No Jupyter a última linha da célula funciona parecido com o print"
   ]
  },
  {
   "cell_type": "code",
   "execution_count": 31,
   "id": "dbd30d35",
   "metadata": {},
   "outputs": [
    {
     "name": "stdout",
     "output_type": "stream",
     "text": [
      "Texto\n"
     ]
    }
   ],
   "source": [
    "print(\"Texto\")"
   ]
  },
  {
   "cell_type": "code",
   "execution_count": 33,
   "id": "343525cc",
   "metadata": {},
   "outputs": [
    {
     "name": "stdout",
     "output_type": "stream",
     "text": [
      "Texto 2\n"
     ]
    }
   ],
   "source": [
    "\"TExto 1\"\n",
    "print(\"Texto 2\")"
   ]
  },
  {
   "cell_type": "markdown",
   "id": "a7b7e2d3",
   "metadata": {},
   "source": [
    "**Mais de um argumento**  \n",
    "Para imprimir mais de uma informação, o print permite inserir quantos argumentos forem necessários, desde que separados por vírgula. Veja o exemplo:"
   ]
  },
  {
   "cell_type": "code",
   "execution_count": 35,
   "id": "d5d22a8a",
   "metadata": {},
   "outputs": [
    {
     "name": "stdout",
     "output_type": "stream",
     "text": [
      "Olá eu sou Renata muito prazer\n"
     ]
    }
   ],
   "source": [
    "print(\"Olá\", \"eu sou Renata\", 'muito prazer')"
   ]
  },
  {
   "cell_type": "code",
   "execution_count": 36,
   "id": "176b8be7",
   "metadata": {},
   "outputs": [
    {
     "name": "stdout",
     "output_type": "stream",
     "text": [
      "Também podemos usar o argumento end (que será útil em condicionais)."
     ]
    }
   ],
   "source": [
    "print(\"Também podemos usar o argumento end (que será útil em condicionais)\", end='.')"
   ]
  },
  {
   "cell_type": "markdown",
   "id": "fddd8b0a",
   "metadata": {},
   "source": [
    "**Print de variáveis**  \n",
    "Também é possível imprimir variáveis de forma simples, basta passar o nome dado para a variável dentro dos parênteses."
   ]
  },
  {
   "cell_type": "code",
   "execution_count": 37,
   "id": "94501f71",
   "metadata": {},
   "outputs": [
    {
     "name": "stdout",
     "output_type": "stream",
     "text": [
      "24\n"
     ]
    }
   ],
   "source": [
    "print(idade)"
   ]
  },
  {
   "cell_type": "code",
   "execution_count": 38,
   "id": "4973adb3",
   "metadata": {},
   "outputs": [
    {
     "data": {
      "text/plain": [
       "24"
      ]
     },
     "execution_count": 38,
     "metadata": {},
     "output_type": "execute_result"
    }
   ],
   "source": [
    "idade"
   ]
  },
  {
   "cell_type": "markdown",
   "id": "dd35f18d",
   "metadata": {},
   "source": [
    "E se for necessário imprimir a mensagem \"Olá, eu sou Renata Marchese\", de forma que o nome e o sobrenome sejam provenientes de variáveis nome e sobrenome"
   ]
  },
  {
   "cell_type": "code",
   "execution_count": 39,
   "id": "43d0084c",
   "metadata": {},
   "outputs": [],
   "source": [
    "nome = 'Renata'\n",
    "sobrenome = \"Marchese\"\n",
    "idade = 21"
   ]
  },
  {
   "cell_type": "code",
   "execution_count": 41,
   "id": "ebdaecaa",
   "metadata": {},
   "outputs": [
    {
     "name": "stdout",
     "output_type": "stream",
     "text": [
      "Olá, eu sou Renata Marchese e tenho 21 anos\n"
     ]
    }
   ],
   "source": [
    "print(\"Olá, eu sou\", nome, sobrenome, \"e tenho\", idade, \"anos\") #usando argumentos"
   ]
  },
  {
   "cell_type": "code",
   "execution_count": 42,
   "id": "8e1526f9",
   "metadata": {},
   "outputs": [
    {
     "name": "stdout",
     "output_type": "stream",
     "text": [
      "Olá, eu sou Renata Marchese e tenho 21 anos\n"
     ]
    }
   ],
   "source": [
    "print(\"Olá, eu sou {} {} e tenho {} anos\".format(nome, sobrenome, idade)) #outra forma de usar"
   ]
  },
  {
   "cell_type": "markdown",
   "id": "9e78502d",
   "metadata": {},
   "source": [
    "**Print com f string**  \n",
    "Outra forma de utilizarmos o print com variáveis é por meio do que chamamos de f string."
   ]
  },
  {
   "cell_type": "code",
   "execution_count": 43,
   "id": "1f183c5a",
   "metadata": {},
   "outputs": [
    {
     "name": "stdout",
     "output_type": "stream",
     "text": [
      "Olá, eu sou Renata Marchese e tenho 21 anos\n"
     ]
    }
   ],
   "source": [
    "print(f\"Olá, eu sou {nome} {sobrenome} e tenho {idade} anos\") # f string"
   ]
  },
  {
   "cell_type": "markdown",
   "id": "2b7c37b2",
   "metadata": {},
   "source": [
    "**Bora praticar!**  \n",
    "Escreva um programa que receba seu nome, sua idade, hobby e escreva uma única sentença que seja, por exemplo, \"Meu nome é Renata, tenho 22 anos e meu hobby é viajar\" "
   ]
  },
  {
   "cell_type": "code",
   "execution_count": 47,
   "id": "702c5747",
   "metadata": {},
   "outputs": [
    {
     "name": "stdout",
     "output_type": "stream",
     "text": [
      "Qual o seu nome?João\n",
      "Qual sua idade? 15\n",
      "Qual o seu hobby? jogar futebol\n",
      "\n",
      "Olá, meu nome é João, tenho 15 anos e meu hobby é jogar futebol\n"
     ]
    }
   ],
   "source": [
    "name = input(\"Qual o seu nome?\")\n",
    "age = int(input(\"Qual sua idade? \"))\n",
    "hobby = input(\"Qual o seu hobby? \")\n",
    "\n",
    "print(f\"\\nOlá, meu nome é {name}, tenho {age} anos e meu hobby é {hobby}\")"
   ]
  },
  {
   "cell_type": "code",
   "execution_count": 52,
   "id": "98d42e87",
   "metadata": {},
   "outputs": [
    {
     "name": "stdout",
     "output_type": "stream",
     "text": [
      "Enter your name Ale\n",
      "Enter your age 32\n",
      "What's your hobby? ensinar\n",
      "Hi, my name is Ale, I'm 32.0 years old and my hobby is ensinar\n"
     ]
    }
   ],
   "source": [
    "name = input(\"Enter your name \")\n",
    "age = float(input(\"Enter your age \"))\n",
    "hobby = input('What\\'s your hobby? ')\n",
    "\n",
    "print(f\"Hi, my name is {name}, I'm {age} years old and my hobby is {hobby}\")"
   ]
  },
  {
   "cell_type": "markdown",
   "id": "7c0ed25a",
   "metadata": {},
   "source": [
    "# Operadores Algébricos e de Atribuição\n",
    "Rotineiramente nos deparamos com a necessidade de realizarmos cálculos, para isso utilizamos os operadores algébricos como conhecemos na matemática tradicional. Mas como usar com variáveis?"
   ]
  },
  {
   "cell_type": "code",
   "execution_count": 56,
   "id": "c3a9902d",
   "metadata": {},
   "outputs": [
    {
     "name": "stdout",
     "output_type": "stream",
     "text": [
      "25\n"
     ]
    }
   ],
   "source": [
    "valor_01 = 10\n",
    "valor_02 = 15\n",
    "\n",
    "# 10 + 15\n",
    "print(valor_01 + valor_02)"
   ]
  },
  {
   "cell_type": "code",
   "execution_count": 59,
   "id": "3b472f50",
   "metadata": {},
   "outputs": [
    {
     "name": "stdout",
     "output_type": "stream",
     "text": [
      "valor de x = 5\n",
      "valor de y = 2\n",
      "valor de z = 7\n",
      "valor de x = 6\n"
     ]
    }
   ],
   "source": [
    "x = 5\n",
    "y = 2\n",
    "\n",
    "z = x + y\n",
    "\n",
    "print('valor de x =', x)\n",
    "print('valor de y =', y)\n",
    "print('valor de z =', z)\n",
    "\n",
    "x += 1 # x = x + 1\n",
    "\n",
    "print('valor de x =', x)\n"
   ]
  },
  {
   "cell_type": "markdown",
   "id": "9db40c29",
   "metadata": {},
   "source": [
    "**Operadores de atribuição**\n",
    "\n",
    "|     Operador    |     Equivalente a    |\n",
    "|:---------------:|----------------------|\n",
    "|         =       |     x =   1          |\n",
    "|        +=       |     x =   x + 1      |\n",
    "|        -=       |     x =   x - 1      |\n",
    "|        *=       |     x =   x * 1      |\n",
    "|        /=       |     x =   x / 1      |\n",
    "|        %=       |     x =   x % 1      |"
   ]
  },
  {
   "cell_type": "markdown",
   "id": "21e4d1ea",
   "metadata": {},
   "source": [
    "Quando uma expressão contém mais de um operador, a ordem da avaliação depende da ordem das operações. Para operadores matemáticos, o Python segue a convenção matemática.\n",
    "\n",
    "- Os Parênteses têm a precedência mais alta e podem ser usados para forçar a avaliação de uma expressão na ordem que quiser.\n",
    "\n",
    "- A Exponenciação tem a próxima precedência mais alta.\n",
    "\n",
    "- A Multiplicação e a Divisão têm precedência mais alta que a Adição e a Subtração.\n",
    "\n",
    "- Os operadores com a mesma precedência são avaliados da esquerda para a direita (exceto na exponenciação).\n"
   ]
  },
  {
   "cell_type": "markdown",
   "id": "e4931843",
   "metadata": {},
   "source": [
    "**Bora praticar!**  \n",
    "Com tudo que vimos até o momento faça um programa que solicite ao usuário que insira seu ano de nascimento. Desconsiderando o mês do ano de nascimento, emita uma mensagem dizendo quantos anos ele possui."
   ]
  },
  {
   "cell_type": "code",
   "execution_count": 75,
   "id": "cb8f0c3b",
   "metadata": {},
   "outputs": [
    {
     "name": "stdout",
     "output_type": "stream",
     "text": [
      "Digite seu ano de nascimento: 2000\n",
      "Você possui 23 anos de idade :)\n"
     ]
    }
   ],
   "source": [
    "ano = int(input(\"Digite seu ano de nascimento: \"))\n",
    "ano_atual = 2023 \n",
    "\n",
    "idade = ano_atual - ano\n",
    "\n",
    "print(f'Você possui {idade} anos de idade :)')"
   ]
  },
  {
   "cell_type": "markdown",
   "id": "9f5c6020",
   "metadata": {},
   "source": [
    "Dúvida aluno --- **NÃO CAI NA PROVA**"
   ]
  },
  {
   "cell_type": "code",
   "execution_count": 73,
   "id": "2396de0d",
   "metadata": {},
   "outputs": [
    {
     "name": "stdout",
     "output_type": "stream",
     "text": [
      "year: 2023\n",
      "month: 12\n",
      "day: 13\n",
      "time: 21:54:22\n",
      "date and time: 12/13/2023, 21:54:22\n",
      "date and time br: 13/12/2023, 21h54\n"
     ]
    }
   ],
   "source": [
    "import datetime as dt\n",
    "\n",
    "data = dt.datetime.now()\n",
    "data = data + dt.timedelta(1)\n",
    "\n",
    "year = data.strftime(\"%Y\")\n",
    "print(\"year:\", year)\n",
    "\n",
    "month = data.strftime(\"%m\")\n",
    "print(\"month:\", month)\n",
    "\n",
    "day = data.strftime(\"%d\")\n",
    "print(\"day:\", day)\n",
    "\n",
    "time = data.strftime(\"%H:%M:%S\")\n",
    "print(\"time:\", time)\n",
    "\n",
    "date_time = data.strftime(\"%m/%d/%Y, %H:%M:%S\")\n",
    "print(\"date and time:\",date_time)\n",
    "\n",
    "date_time_br = data.strftime(\"%d/%m/%Y, %Hh%M\")\n",
    "print(\"date and time br:\",date_time_br)"
   ]
  },
  {
   "cell_type": "markdown",
   "id": "952a97fb",
   "metadata": {},
   "source": [
    "## Operadores de Comparação  \n",
    "Os operadores de comparação são aqueles que possuem o objetivo de analisar os valores de uma expressão e retornar um valor booleano, ou seja, verdadeiro (1) ou falso (0).\n",
    "\n",
    "**Operadores de comparação**\n",
    "\n",
    "|     Operador    |           Nome          |     Função                                              |\n",
    "|:---------------:|:-----------------------:|---------------------------------------------------------|\n",
    "|        ==       |         Igual   a       |     Verifica   se um valor é igual ao outro             |\n",
    "|        !=       |      Diferente   de     |     Verifica   se um valor é diferente ao outro         |\n",
    "|         >       |        Maior   que      |     Verifica   se um valor é maior que outro            |\n",
    "|        >=       |     Maior   ou igual    |     Verifica   se um valor é maior ou igual ao outro    |\n",
    "|         <       |        Menor   que      |     Verifica   se um valor é menor que outro            |\n",
    "|        <=       |     Menor   ou igual    |     Verifica   se um valor é menor ou igual ao outro    |"
   ]
  },
  {
   "cell_type": "code",
   "execution_count": 76,
   "id": "4f3008e9",
   "metadata": {},
   "outputs": [
    {
     "name": "stdout",
     "output_type": "stream",
     "text": [
      "False\n"
     ]
    }
   ],
   "source": [
    "print( 2 > 3)"
   ]
  },
  {
   "cell_type": "code",
   "execution_count": 77,
   "id": "fbd6d071",
   "metadata": {},
   "outputs": [
    {
     "name": "stdout",
     "output_type": "stream",
     "text": [
      "True\n"
     ]
    }
   ],
   "source": [
    "print( 3 > 2)"
   ]
  },
  {
   "cell_type": "code",
   "execution_count": 78,
   "id": "0c2cfedc",
   "metadata": {},
   "outputs": [
    {
     "name": "stdout",
     "output_type": "stream",
     "text": [
      "False\n"
     ]
    }
   ],
   "source": [
    "print( 3 == 2 ) # CUIDADO: = é atribuição e não comparação"
   ]
  },
  {
   "cell_type": "code",
   "execution_count": 80,
   "id": "686a3e25",
   "metadata": {},
   "outputs": [
    {
     "name": "stdout",
     "output_type": "stream",
     "text": [
      "True\n"
     ]
    }
   ],
   "source": [
    "print( 3 != 2 ) # diferente"
   ]
  },
  {
   "cell_type": "code",
   "execution_count": 81,
   "id": "e59a8962",
   "metadata": {},
   "outputs": [
    {
     "ename": "SyntaxError",
     "evalue": "expression cannot contain assignment, perhaps you meant \"==\"? (3037354685.py, line 1)",
     "output_type": "error",
     "traceback": [
      "\u001b[1;36m  Cell \u001b[1;32mIn[81], line 1\u001b[1;36m\u001b[0m\n\u001b[1;33m    print( 3 =! 2 )\u001b[0m\n\u001b[1;37m           ^\u001b[0m\n\u001b[1;31mSyntaxError\u001b[0m\u001b[1;31m:\u001b[0m expression cannot contain assignment, perhaps you meant \"==\"?\n"
     ]
    }
   ],
   "source": [
    "print( 3 =! 2 )"
   ]
  },
  {
   "cell_type": "markdown",
   "id": "88644425",
   "metadata": {},
   "source": [
    "**Bora praticar!**  \n",
    "Imagine que você está implementando um sistema para verificar se os alunos de uma turma estudantil passaram na disciplina ou não. Para isso solicite que o usuário insira as notas das 4 provas realizadas por um estudante e calcule a média. Após isso, emita uma resposta booleana (True ou False) se o estudante passou na disciplina pensando que a média mínima para aprovação é que seja pelo menos 5."
   ]
  },
  {
   "cell_type": "code",
   "execution_count": null,
   "id": "9c76f3d5",
   "metadata": {},
   "outputs": [],
   "source": []
  },
  {
   "cell_type": "markdown",
   "id": "4a2a291a",
   "metadata": {},
   "source": [
    "Crie um algoritmo que calcule o IMC (índice de massa corporal). O IMC é calculado com a formula PESO/(ALTURA ^ 2). Para isso, coloque as informações nas variáveis e ao final apresente o resultado como no exemplo: \"O IMC é 18\""
   ]
  },
  {
   "cell_type": "code",
   "execution_count": null,
   "id": "c1c1ed3a",
   "metadata": {},
   "outputs": [],
   "source": []
  },
  {
   "cell_type": "markdown",
   "id": "726c81b1",
   "metadata": {},
   "source": [
    "Escreva um algoritmo que calcule (x + y) * (x + y). Os valores de x e y devem ser inseridos pelo usuário"
   ]
  },
  {
   "cell_type": "code",
   "execution_count": null,
   "id": "d4b48b5d",
   "metadata": {},
   "outputs": [],
   "source": []
  }
 ],
 "metadata": {
  "kernelspec": {
   "display_name": "Python 3 (ipykernel)",
   "language": "python",
   "name": "python3"
  },
  "language_info": {
   "codemirror_mode": {
    "name": "ipython",
    "version": 3
   },
   "file_extension": ".py",
   "mimetype": "text/x-python",
   "name": "python",
   "nbconvert_exporter": "python",
   "pygments_lexer": "ipython3",
   "version": "3.12.0"
  }
 },
 "nbformat": 4,
 "nbformat_minor": 5
}
