{
 "cells": [
  {
   "cell_type": "markdown",
   "id": "13acd9f1",
   "metadata": {},
   "source": [
    "<div style=\"background-color: lightgreen; padding: 18px;\">\n",
    "    <h1> Coding Tank | Santander\n",
    "</div>"
   ]
  },
  {
   "cell_type": "markdown",
   "id": "19864968",
   "metadata": {},
   "source": [
    "Renata Martins Marchese\n",
    "\n",
    "renata.marchese@ada.tech\n"
   ]
  },
  {
   "cell_type": "markdown",
   "id": "dfdc8a37",
   "metadata": {},
   "source": [
    "<div style=\"background-color: lightblue; padding: 10px;\">\n",
    "    <h2> Informações - Introdução\n",
    "</div>"
   ]
  },
  {
   "cell_type": "markdown",
   "id": "64c88411",
   "metadata": {},
   "source": [
    "Alguns recados importantes\n",
    "\n",
    "- Horários (início 19h e intervalo de 10 minutos às  20h30)\n",
    "- Presença\n",
    "- Câmera / participação\n",
    "- Processo seletivo\n",
    "- Cronograma de aulas\n",
    "\n",
    "Pode usar qualquer IDE do jupyter notebook ou jupyter lab\n",
    "- Visual Studio Code - Extensão Jupyter\n",
    "- Colab google - https://colab.research.google.com/\n",
    "- Deep note - https://deepnote.com/\n",
    "- JupyterLite - https://jupyter.org/try\n",
    "- Diversas outras opções. Sem acompanhar a aula, o aluno não ficará\n",
    "\n",
    "Os alunos **já** fizeram um curso de python e **terão** no primeiro módulo do curso.\n",
    "O Coding Tank é um processo seletivo que aprovará aqueles que estão engajados e que evoluem durante o processo. Não necessariamente o aluno que já sabe python irá passar pois a intenção é nivelar os alunos e medir o engajamento.\n",
    "Dito isso, pedimos que **não** avance em certos tópicos como funções para termos uma classificação justa. \n",
    "\n",
    "Outro ponto é tentar avaliar o que o aluno está desenvolvendo e não usando modelos de linguagem como ChatGPT|Bard\n",
    "\n",
    "É um processo seletivo! \n",
    "\n",
    "<div style=\"background-color: lightblue; padding: 10px;\">\n",
    "    <h2> AULAS\n",
    "</div>\n",
    "\n",
    "\n",
    "- Aula 1\n",
    "Variáveis, entrada, saída e operadores\n",
    "\n",
    "- Aula 2\n",
    "Termninar conteúdo da aula anterior. Condicionais com if/elif/else. Introduzir alguns métodos de string para facilitar nos exercícios\n",
    "\n",
    "- Aula 3\n",
    "Estrutura de repetição while.\n",
    "\n",
    "- Aula 4\n",
    "For, listas e funções de listas\n",
    "\n",
    "- Aula 5\n",
    "Prova\n",
    "\n",
    "https://lms.ada.tech/\n",
    "\n",
    "  \n",
    "    \n",
    " \n",
    "<div style=\"background-color: lightblue; padding: 10px;\">\n",
    "    <h2> BORA COMEÇAR?\n",
    "</div>"
   ]
  },
  {
   "cell_type": "markdown",
   "id": "94a0e951",
   "metadata": {},
   "source": [
    " "
   ]
  },
  {
   "cell_type": "markdown",
   "id": "f628a079",
   "metadata": {},
   "source": [
    "<div style=\"background-color: lightblue; padding: 10px;\">\n",
    "    <h2> Tópicos da aula - AULA 1\n",
    "</div>\n",
    "\n",
    "- Variáveis\n",
    "- Tipos básicos\n",
    "- Entradas/Saídas\n",
    "- Operadores aritméticos, atribuição e comparação"
   ]
  },
  {
   "cell_type": "markdown",
   "id": "06228dc3",
   "metadata": {},
   "source": [
    "**Introdução**\n",
    "\n",
    "Vamos explorar como o jupyter notebook funciona, botões, comandos e tipos de célula"
   ]
  },
  {
   "cell_type": "code",
   "execution_count": 1,
   "id": "aded39bd",
   "metadata": {
    "scrolled": true
   },
   "outputs": [
    {
     "data": {
      "text/plain": [
       "1"
      ]
     },
     "execution_count": 1,
     "metadata": {},
     "output_type": "execute_result"
    }
   ],
   "source": [
    "1"
   ]
  },
  {
   "cell_type": "markdown",
   "id": "ad45decd",
   "metadata": {},
   "source": [
    "2"
   ]
  },
  {
   "cell_type": "code",
   "execution_count": 2,
   "id": "1e902f05",
   "metadata": {},
   "outputs": [
    {
     "data": {
      "text/plain": [
       "7"
      ]
     },
     "execution_count": 2,
     "metadata": {},
     "output_type": "execute_result"
    }
   ],
   "source": [
    "3 + 4"
   ]
  },
  {
   "cell_type": "code",
   "execution_count": 3,
   "id": "5747fe12",
   "metadata": {},
   "outputs": [
    {
     "data": {
      "text/plain": [
       "2"
      ]
     },
     "execution_count": 3,
     "metadata": {},
     "output_type": "execute_result"
    }
   ],
   "source": [
    "5 - 3"
   ]
  },
  {
   "cell_type": "markdown",
   "id": "f951a005",
   "metadata": {},
   "source": [
    "https://peps.python.org/pep-0008/ -> PEP 8 – Style Guide for Python Code"
   ]
  },
  {
   "cell_type": "code",
   "execution_count": 4,
   "id": "33ac6109",
   "metadata": {},
   "outputs": [
    {
     "data": {
      "text/plain": [
       "10"
      ]
     },
     "execution_count": 4,
     "metadata": {},
     "output_type": "execute_result"
    }
   ],
   "source": [
    "2 * 5"
   ]
  },
  {
   "cell_type": "code",
   "execution_count": 5,
   "id": "15e3b947",
   "metadata": {},
   "outputs": [
    {
     "data": {
      "text/plain": [
       "7.5"
      ]
     },
     "execution_count": 5,
     "metadata": {},
     "output_type": "execute_result"
    }
   ],
   "source": [
    "15 / 2"
   ]
  },
  {
   "cell_type": "code",
   "execution_count": 6,
   "id": "41b93ba4",
   "metadata": {},
   "outputs": [
    {
     "data": {
      "text/plain": [
       "7"
      ]
     },
     "execution_count": 6,
     "metadata": {},
     "output_type": "execute_result"
    }
   ],
   "source": [
    "15 // 2"
   ]
  },
  {
   "cell_type": "code",
   "execution_count": 7,
   "id": "f92d0a62",
   "metadata": {},
   "outputs": [
    {
     "data": {
      "text/plain": [
       "1"
      ]
     },
     "execution_count": 7,
     "metadata": {},
     "output_type": "execute_result"
    }
   ],
   "source": [
    "15 % 2"
   ]
  },
  {
   "cell_type": "code",
   "execution_count": 8,
   "id": "8eea333e",
   "metadata": {},
   "outputs": [
    {
     "data": {
      "text/plain": [
       "225"
      ]
     },
     "execution_count": 8,
     "metadata": {},
     "output_type": "execute_result"
    }
   ],
   "source": [
    "15 ** 2"
   ]
  },
  {
   "cell_type": "markdown",
   "id": "2c33385d",
   "metadata": {},
   "source": [
    "**Operadores Aritméticos**\n",
    "\n",
    "|     Operador    |     Nome                 |     Função                                                                       |\n",
    "|-----------------|--------------------------|----------------------------------------------------------------------------------|\n",
    "|     +           |     Adição               |     Realiza   a soma de ambos operandos.                                         |\n",
    "|     -           |     Subtração            |     Realiza   a subtração de ambos operandos.                                    |\n",
    "|     *           |     Multiplicação        |     Realiza   a multiplicação de ambos operandos.                                |\n",
    "|     /           |     Divisão              |     Realiza   a Divisão de ambos operandos.                                      |\n",
    "|     //          |     Divisão   inteira    |     Realiza   a divisão entre operandos e a parte decimal de ambos operandos.    |\n",
    "|     %           |     Módulo               |     Retorna   o resto da divisão de ambos operandos.                             |\n",
    "|     **          |     Exponenciação        |     Retorna   o resultado da elevação da potência pelo outro.                    |"
   ]
  },
  {
   "cell_type": "markdown",
   "id": "7fc7d31a",
   "metadata": {},
   "source": [
    "Mas como podemos armazenar esses valores?"
   ]
  },
  {
   "cell_type": "markdown",
   "id": "b6356722",
   "metadata": {},
   "source": [
    "# Variáveis\n",
    "\n",
    "Variável é o nome dado ao tipo de conteúdo que pode apresentar diferentes valores enquanto o sistema está em execução. Tudo dependerá do comando do usuário e o tipo de operação que é realizado.\n",
    "\n",
    "Imagine que você conhece uma nova pessoa. A variável seria o lugar no seu cérebro no qual você guarda, por exemplo, o nome desta pessoa, ou seja, é alocado um espaço para armazenar esta informação e posteriormente é passado o valor referente aquele dado.\n",
    "\n",
    "`nome = \"Renata\"`\n",
    "\n",
    "## Tipos básicos\n",
    "\n",
    "Podemos ter informações relacionadas às outras pessoas como nome, idade e salário. Cada uma delas possui o que chamamos de tipos de variável. Os tipos de dados são os seguintes:"
   ]
  },
  {
   "cell_type": "code",
   "execution_count": 22,
   "id": "bfc2002d",
   "metadata": {},
   "outputs": [
    {
     "data": {
      "text/plain": [
       "str"
      ]
     },
     "execution_count": 22,
     "metadata": {},
     "output_type": "execute_result"
    }
   ],
   "source": [
    "\n",
    "# Esta é uma forma de comentar o código. Toda esta informação não será processada\n",
    "# Podemos passar variáveis de texto (str) com aspas duplas\n",
    "\n",
    "nome = \"Renata\" # Comentário\n",
    "\n",
    "type(nome)\n"
   ]
  },
  {
   "cell_type": "code",
   "execution_count": 13,
   "id": "dfdaa3b4",
   "metadata": {},
   "outputs": [
    {
     "data": {
      "text/plain": [
       "str"
      ]
     },
     "execution_count": 13,
     "metadata": {},
     "output_type": "execute_result"
    }
   ],
   "source": [
    "# Também podemos usar aspas simples\n",
    "\n",
    "nome = 'Renata'\n",
    "type(nome)"
   ]
  },
  {
   "cell_type": "code",
   "execution_count": 19,
   "id": "4f4741d1",
   "metadata": {},
   "outputs": [
    {
     "data": {
      "text/plain": [
       "int"
      ]
     },
     "execution_count": 19,
     "metadata": {},
     "output_type": "execute_result"
    }
   ],
   "source": [
    "idade = 21 # atribuindo um número a variável idade\n",
    "\n",
    "type(idade)\n"
   ]
  },
  {
   "cell_type": "code",
   "execution_count": 20,
   "id": "3ccbdf21",
   "metadata": {},
   "outputs": [
    {
     "data": {
      "text/plain": [
       "float"
      ]
     },
     "execution_count": 20,
     "metadata": {},
     "output_type": "execute_result"
    }
   ],
   "source": [
    "idade = 21.\n",
    "type(idade)"
   ]
  },
  {
   "cell_type": "code",
   "execution_count": 23,
   "id": "fcc74653",
   "metadata": {},
   "outputs": [
    {
     "data": {
      "text/plain": [
       "bool"
      ]
     },
     "execution_count": 23,
     "metadata": {},
     "output_type": "execute_result"
    }
   ],
   "source": [
    "certificado = True # True é diferente de true, que é diferente de TRUE\n",
    "\n",
    "type(certificado)"
   ]
  },
  {
   "cell_type": "code",
   "execution_count": 24,
   "id": "a5822423",
   "metadata": {},
   "outputs": [
    {
     "ename": "NameError",
     "evalue": "name 'false' is not defined",
     "output_type": "error",
     "traceback": [
      "\u001b[1;31m---------------------------------------------------------------------------\u001b[0m",
      "\u001b[1;31mNameError\u001b[0m                                 Traceback (most recent call last)",
      "Cell \u001b[1;32mIn[24], line 1\u001b[0m\n\u001b[1;32m----> 1\u001b[0m var \u001b[38;5;241m=\u001b[39m \u001b[43mfalse\u001b[49m \n",
      "\u001b[1;31mNameError\u001b[0m: name 'false' is not defined"
     ]
    }
   ],
   "source": [
    "var = false # false é variável e não booleano --> Case sensitive"
   ]
  },
  {
   "cell_type": "markdown",
   "id": "612252f8",
   "metadata": {},
   "source": [
    "PALAVRAS RESERVADAS\n",
    "\n",
    "- and       - del       - from       - not        - while    \n",
    "- as        - elif      - global     - or         - with     \n",
    "- assert    - else      - if         - pass       - yield    \n",
    "- break     - except    - import     - print                \n",
    "- class     - exec      - in         - raise                \n",
    "- continue  - finally   - is         - return               \n",
    "- def       - for       - lambda     - try\n",
    "\n",
    "https://docs.python.org/2.5/ref/keywords.html"
   ]
  },
  {
   "cell_type": "markdown",
   "id": "703b546c",
   "metadata": {},
   "source": [
    "# Entradas\n",
    "\n",
    "Para solicitarmos entradas de informações a serem fornecidas pelo usuário podemos utilizar a função input. Com ela você poderá (opcional) passar uma mensagem instrutiva ao usuário do que deseja que ele insira.  \n",
    "No exemplo abaixo utilizaremos o input."
   ]
  },
  {
   "cell_type": "code",
   "execution_count": 1,
   "id": "aa894936",
   "metadata": {},
   "outputs": [
    {
     "name": "stdout",
     "output_type": "stream",
     "text": [
      "Oi\n"
     ]
    },
    {
     "data": {
      "text/plain": [
       "'Oi'"
      ]
     },
     "execution_count": 1,
     "metadata": {},
     "output_type": "execute_result"
    }
   ],
   "source": [
    "input()"
   ]
  },
  {
   "cell_type": "markdown",
   "id": "01998252",
   "metadata": {},
   "source": [
    "**Intuição**  \n",
    "Veja que ele funciona, porém sem uma mensagem de qual informação é solicitada não é possível identificar o que se deve passar ao programa."
   ]
  },
  {
   "cell_type": "code",
   "execution_count": 2,
   "id": "7e8e3ae7",
   "metadata": {},
   "outputs": [
    {
     "name": "stdout",
     "output_type": "stream",
     "text": [
      "Insira sua idade: 21\n"
     ]
    },
    {
     "data": {
      "text/plain": [
       "'21'"
      ]
     },
     "execution_count": 2,
     "metadata": {},
     "output_type": "execute_result"
    }
   ],
   "source": [
    "input('Insira sua idade: ')"
   ]
  },
  {
   "cell_type": "markdown",
   "id": "5cd8ef90",
   "metadata": {},
   "source": [
    "**Variável**  \n",
    "Podemos guardar o valor passado pelo usuário numa variável"
   ]
  },
  {
   "cell_type": "code",
   "execution_count": 3,
   "id": "164c0b71",
   "metadata": {},
   "outputs": [
    {
     "name": "stdout",
     "output_type": "stream",
     "text": [
      "Insira sua idade: 21\n"
     ]
    }
   ],
   "source": [
    "idade = input('Insira sua idade: ')"
   ]
  },
  {
   "cell_type": "markdown",
   "id": "ccf23b07",
   "metadata": {},
   "source": [
    "Repare nas aspas que saem quando utilizamos apenas a função input. Isso quer dizer que este valor capturado pelo programa é uma string, independente do que o usuário insira."
   ]
  },
  {
   "cell_type": "code",
   "execution_count": 4,
   "id": "e545c7df",
   "metadata": {},
   "outputs": [
    {
     "data": {
      "text/plain": [
       "str"
      ]
     },
     "execution_count": 4,
     "metadata": {},
     "output_type": "execute_result"
    }
   ],
   "source": [
    "type(idade)"
   ]
  },
  {
   "cell_type": "markdown",
   "id": "84df4c93",
   "metadata": {},
   "source": [
    "**Convertendo o tipo de dado**\n",
    "\n",
    "Neste caso é interessante que a idade seja um número, visto que em geral o utilizamos para realizar contas, por exemplo. Para converter este valor para um inteiro, podemos fazer da seguinte forma:"
   ]
  },
  {
   "cell_type": "code",
   "execution_count": 5,
   "id": "7ce08ab7",
   "metadata": {},
   "outputs": [
    {
     "data": {
      "text/plain": [
       "21"
      ]
     },
     "execution_count": 5,
     "metadata": {},
     "output_type": "execute_result"
    }
   ],
   "source": [
    "int(idade)"
   ]
  },
  {
   "cell_type": "code",
   "execution_count": 7,
   "id": "c20ed038",
   "metadata": {},
   "outputs": [
    {
     "data": {
      "text/plain": [
       "21.0"
      ]
     },
     "execution_count": 7,
     "metadata": {},
     "output_type": "execute_result"
    }
   ],
   "source": [
    "float(idade)"
   ]
  },
  {
   "cell_type": "code",
   "execution_count": 8,
   "id": "a0277913",
   "metadata": {},
   "outputs": [
    {
     "data": {
      "text/plain": [
       "'21.0'"
      ]
     },
     "execution_count": 8,
     "metadata": {},
     "output_type": "execute_result"
    }
   ],
   "source": [
    "str(float(idade)) # idade é originalmente string, transformei para float e depois para string novamente"
   ]
  },
  {
   "cell_type": "code",
   "execution_count": 9,
   "id": "ae518898",
   "metadata": {},
   "outputs": [
    {
     "data": {
      "text/plain": [
       "21"
      ]
     },
     "execution_count": 9,
     "metadata": {},
     "output_type": "execute_result"
    }
   ],
   "source": [
    "int(float(idade))"
   ]
  },
  {
   "cell_type": "code",
   "execution_count": 11,
   "id": "b2ccf338",
   "metadata": {},
   "outputs": [
    {
     "ename": "ValueError",
     "evalue": "could not convert string to float: 'Renata'",
     "output_type": "error",
     "traceback": [
      "\u001b[1;31m---------------------------------------------------------------------------\u001b[0m",
      "\u001b[1;31mValueError\u001b[0m                                Traceback (most recent call last)",
      "Cell \u001b[1;32mIn[11], line 1\u001b[0m\n\u001b[1;32m----> 1\u001b[0m \u001b[38;5;28;43mfloat\u001b[39;49m\u001b[43m(\u001b[49m\u001b[38;5;124;43m\"\u001b[39;49m\u001b[38;5;124;43mRenata\u001b[39;49m\u001b[38;5;124;43m\"\u001b[39;49m\u001b[43m)\u001b[49m\n",
      "\u001b[1;31mValueError\u001b[0m: could not convert string to float: 'Renata'"
     ]
    }
   ],
   "source": [
    "float(\"Renata\") # não consigo transformar esse texto em casas decimais (valores flutuantes)"
   ]
  },
  {
   "cell_type": "markdown",
   "id": "8adf1203",
   "metadata": {},
   "source": [
    "https://docs.python.org/3/library/functions.html\n",
    "\n",
    "Funções já implementadas dentro do Python"
   ]
  },
  {
   "cell_type": "code",
   "execution_count": 12,
   "id": "f1b3433d",
   "metadata": {},
   "outputs": [
    {
     "data": {
      "text/plain": [
       "123"
      ]
     },
     "execution_count": 12,
     "metadata": {},
     "output_type": "execute_result"
    }
   ],
   "source": [
    "int(\"00123\")"
   ]
  },
  {
   "cell_type": "code",
   "execution_count": 13,
   "id": "38d51412",
   "metadata": {},
   "outputs": [
    {
     "data": {
      "text/plain": [
       "str"
      ]
     },
     "execution_count": 13,
     "metadata": {},
     "output_type": "execute_result"
    }
   ],
   "source": [
    "type(idade)"
   ]
  },
  {
   "cell_type": "markdown",
   "id": "290f5963",
   "metadata": {},
   "source": [
    "E para simplificar ainda mais é comum que já realizemos a conversão da variável logo na chamada do input."
   ]
  },
  {
   "cell_type": "code",
   "execution_count": 14,
   "id": "48cef3e0",
   "metadata": {},
   "outputs": [
    {
     "name": "stdout",
     "output_type": "stream",
     "text": [
      "Insira sua idade: 24\n"
     ]
    }
   ],
   "source": [
    "idade = int(input('Insira sua idade: '))"
   ]
  },
  {
   "cell_type": "code",
   "execution_count": 15,
   "id": "5c29fa2b",
   "metadata": {},
   "outputs": [
    {
     "data": {
      "text/plain": [
       "int"
      ]
     },
     "execution_count": 15,
     "metadata": {},
     "output_type": "execute_result"
    }
   ],
   "source": [
    "type(idade)"
   ]
  },
  {
   "cell_type": "markdown",
   "id": "3ab026b7",
   "metadata": {},
   "source": [
    "## Saídas\n",
    "\n",
    "Em diversas situações desejamos imprimir na tela o resultado de alguma operação que realizamos ou simplesmente emitirmos uma mensagem, para estas situações utilizamos o `print`."
   ]
  },
  {
   "cell_type": "code",
   "execution_count": 16,
   "id": "68a20401",
   "metadata": {},
   "outputs": [
    {
     "name": "stdout",
     "output_type": "stream",
     "text": [
      "\n"
     ]
    }
   ],
   "source": [
    "print()"
   ]
  },
  {
   "cell_type": "code",
   "execution_count": 17,
   "id": "51c1c15f",
   "metadata": {},
   "outputs": [
    {
     "name": "stdout",
     "output_type": "stream",
     "text": [
      "Você pode utilizar o print para imprimir na tela o que você quiser\n"
     ]
    }
   ],
   "source": [
    "print(\"Você pode utilizar o print para imprimir na tela o que você quiser\")"
   ]
  },
  {
   "cell_type": "code",
   "execution_count": 20,
   "id": "8e7fcbe6",
   "metadata": {},
   "outputs": [
    {
     "name": "stdout",
     "output_type": "stream",
     "text": [
      "As aspas simples também funcionam\n"
     ]
    }
   ],
   "source": [
    "print('As aspas simples também funcionam') # comentário no código, ele não executa o que está na frente do #"
   ]
  },
  {
   "cell_type": "code",
   "execution_count": 21,
   "id": "7d145ac3",
   "metadata": {},
   "outputs": [
    {
     "name": "stdout",
     "output_type": "stream",
     "text": [
      "Teste\n"
     ]
    }
   ],
   "source": [
    "print(\"Teste\") # uso para comentar uma linha de código\n",
    "\n",
    "# Para comentar mais linhas \"\"\"3x aspas\"\"\""
   ]
  },
  {
   "cell_type": "code",
   "execution_count": 28,
   "id": "c36fe209",
   "metadata": {},
   "outputs": [
    {
     "name": "stdout",
     "output_type": "stream",
     "text": [
      "Podemos pular linha \n",
      "com este símbolo\n"
     ]
    }
   ],
   "source": [
    "print('Podemos pular linha \\ncom este símbolo') # \\n Dúvida aluna: colocar \\\\ para não executar"
   ]
  },
  {
   "cell_type": "code",
   "execution_count": 25,
   "id": "31d96a8f",
   "metadata": {},
   "outputs": [
    {
     "name": "stdout",
     "output_type": "stream",
     "text": [
      "\tÉ possível utilizar a tabulação\n"
     ]
    }
   ],
   "source": [
    "print(\"\\tÉ possível utilizar a tabulação\")"
   ]
  },
  {
   "cell_type": "code",
   "execution_count": null,
   "id": "823e7211",
   "metadata": {},
   "outputs": [],
   "source": [
    "print('Também podemos')\n",
    "print(\"usar o print\")\n",
    "print(\"várias vezes na mesma célula\")"
   ]
  },
  {
   "cell_type": "code",
   "execution_count": 29,
   "id": "654bbe8c",
   "metadata": {},
   "outputs": [
    {
     "ename": "SyntaxError",
     "evalue": "unterminated string literal (detected at line 1) (4212653290.py, line 1)",
     "output_type": "error",
     "traceback": [
      "\u001b[1;36m  Cell \u001b[1;32mIn[29], line 1\u001b[1;36m\u001b[0m\n\u001b[1;33m    print(\"erro')\u001b[0m\n\u001b[1;37m          ^\u001b[0m\n\u001b[1;31mSyntaxError\u001b[0m\u001b[1;31m:\u001b[0m unterminated string literal (detected at line 1)\n"
     ]
    }
   ],
   "source": [
    "print(\"erro')"
   ]
  },
  {
   "cell_type": "code",
   "execution_count": 30,
   "id": "2377ef3e",
   "metadata": {},
   "outputs": [
    {
     "data": {
      "text/plain": [
       "'Texto'"
      ]
     },
     "execution_count": 30,
     "metadata": {},
     "output_type": "execute_result"
    }
   ],
   "source": [
    "# Observação\n",
    "\"Texto\" # No Jupyter a última linha da célula funciona parecido com o print"
   ]
  },
  {
   "cell_type": "code",
   "execution_count": 31,
   "id": "f6fa46f0",
   "metadata": {},
   "outputs": [
    {
     "name": "stdout",
     "output_type": "stream",
     "text": [
      "Texto\n"
     ]
    }
   ],
   "source": [
    "print(\"Texto\")"
   ]
  },
  {
   "cell_type": "code",
   "execution_count": 33,
   "id": "fdd40182",
   "metadata": {},
   "outputs": [
    {
     "name": "stdout",
     "output_type": "stream",
     "text": [
      "Texto 2\n"
     ]
    }
   ],
   "source": [
    "\"TExto 1\"\n",
    "print(\"Texto 2\")"
   ]
  },
  {
   "cell_type": "markdown",
   "id": "b2ee7b5e",
   "metadata": {},
   "source": [
    "**Mais de um argumento**  \n",
    "Para imprimir mais de uma informação, o print permite inserir quantos argumentos forem necessários, desde que separados por vírgula. Veja o exemplo:"
   ]
  },
  {
   "cell_type": "code",
   "execution_count": 35,
   "id": "2e16ab58",
   "metadata": {},
   "outputs": [
    {
     "name": "stdout",
     "output_type": "stream",
     "text": [
      "Olá eu sou Renata muito prazer\n"
     ]
    }
   ],
   "source": [
    "print(\"Olá\", \"eu sou Renata\", 'muito prazer')"
   ]
  },
  {
   "cell_type": "code",
   "execution_count": 36,
   "id": "5b6bd8ab",
   "metadata": {},
   "outputs": [
    {
     "name": "stdout",
     "output_type": "stream",
     "text": [
      "Também podemos usar o argumento end (que será útil em condicionais)."
     ]
    }
   ],
   "source": [
    "print(\"Também podemos usar o argumento end (que será útil em condicionais)\", end='.')"
   ]
  },
  {
   "cell_type": "markdown",
   "id": "40ba0c94",
   "metadata": {},
   "source": [
    "**Print de variáveis**  \n",
    "Também é possível imprimir variáveis de forma simples, basta passar o nome dado para a variável dentro dos parênteses."
   ]
  },
  {
   "cell_type": "code",
   "execution_count": 37,
   "id": "623513f4",
   "metadata": {},
   "outputs": [
    {
     "name": "stdout",
     "output_type": "stream",
     "text": [
      "24\n"
     ]
    }
   ],
   "source": [
    "print(idade)"
   ]
  },
  {
   "cell_type": "code",
   "execution_count": 38,
   "id": "bc418b10",
   "metadata": {},
   "outputs": [
    {
     "data": {
      "text/plain": [
       "24"
      ]
     },
     "execution_count": 38,
     "metadata": {},
     "output_type": "execute_result"
    }
   ],
   "source": [
    "idade"
   ]
  },
  {
   "cell_type": "markdown",
   "id": "a41bd572",
   "metadata": {},
   "source": [
    "E se for necessário imprimir a mensagem \"Olá, eu sou Renata Marchese\", de forma que o nome e o sobrenome sejam provenientes de variáveis nome e sobrenome"
   ]
  },
  {
   "cell_type": "code",
   "execution_count": 39,
   "id": "20c5f5ea",
   "metadata": {},
   "outputs": [],
   "source": [
    "nome = 'Renata'\n",
    "sobrenome = \"Marchese\"\n",
    "idade = 21"
   ]
  },
  {
   "cell_type": "code",
   "execution_count": 41,
   "id": "37760d4e",
   "metadata": {},
   "outputs": [
    {
     "name": "stdout",
     "output_type": "stream",
     "text": [
      "Olá, eu sou Renata Marchese e tenho 21 anos\n"
     ]
    }
   ],
   "source": [
    "print(\"Olá, eu sou\", nome, sobrenome, \"e tenho\", idade, \"anos\") #usando argumentos"
   ]
  },
  {
   "cell_type": "code",
   "execution_count": 42,
   "id": "9a0d906d",
   "metadata": {},
   "outputs": [
    {
     "name": "stdout",
     "output_type": "stream",
     "text": [
      "Olá, eu sou Renata Marchese e tenho 21 anos\n"
     ]
    }
   ],
   "source": [
    "print(\"Olá, eu sou {} {} e tenho {} anos\".format(nome, sobrenome, idade)) #outra forma de usar"
   ]
  },
  {
   "cell_type": "markdown",
   "id": "0ad54f85",
   "metadata": {},
   "source": [
    "**Print com f string**  \n",
    "Outra forma de utilizarmos o print com variáveis é por meio do que chamamos de f string."
   ]
  },
  {
   "cell_type": "code",
   "execution_count": 43,
   "id": "c3af311e",
   "metadata": {},
   "outputs": [
    {
     "name": "stdout",
     "output_type": "stream",
     "text": [
      "Olá, eu sou Renata Marchese e tenho 21 anos\n"
     ]
    }
   ],
   "source": [
    "print(f\"Olá, eu sou {nome} {sobrenome} e tenho {idade} anos\") # f string"
   ]
  },
  {
   "cell_type": "code",
   "execution_count": null,
   "id": "eea8e94e",
   "metadata": {},
   "outputs": [],
   "source": []
  }
 ],
 "metadata": {
  "kernelspec": {
   "display_name": "Python 3 (ipykernel)",
   "language": "python",
   "name": "python3"
  },
  "language_info": {
   "codemirror_mode": {
    "name": "ipython",
    "version": 3
   },
   "file_extension": ".py",
   "mimetype": "text/x-python",
   "name": "python",
   "nbconvert_exporter": "python",
   "pygments_lexer": "ipython3",
   "version": "3.12.0"
  }
 },
 "nbformat": 4,
 "nbformat_minor": 5
}
